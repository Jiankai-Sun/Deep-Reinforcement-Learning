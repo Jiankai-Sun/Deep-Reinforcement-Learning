{
 "cells": [
  {
   "cell_type": "markdown",
   "metadata": {
    "collapsed": true
   },
   "source": [
    "# Asynchronus Advantage Actor-Critic (A3C)\n",
    "Reference: https://github.com/awjuliani/DeepRL-Agents/blob/master/A3C-Doom.ipynb\n",
    "\n",
    "We use A3C to solve a simple 3D Doom challenge using the VizDoom engine. For more information on A3C, see the accompanying [Medium post](https://medium.com/p/c88f72a5e9f2/edit).\n",
    " \n",
    "This tutorial requires that VizDoom is installed. It can be easily obtained with:\n",
    " \n",
    " `pip install vizdoom`\n",
    " \n",
    "It also requires `basic.wad` and `helper.py`, both of which are available from the [DeepRL-Agents github repo](https://github.com/awjuliani/DeepRL-Agents).\n",
    " \n",
    "While training is taking place, statistics on agent performance are available from Tensorboard. To launch it use:\n",
    " \n",
    "`tensorboard --logdir=worker_0:'./train_0',worker_1:'./train_1',worker_2:'./train_2',worker_3:'./train_3'`\n",
    " \n",
    "Current working directory of Jupyter Notebook should be the same with `basic.wad`, `helper.py`\n",
    " \n",
    "We can get the current working directory by using the following code\n",
    "\n",
    " ```python\n",
    " import os\n",
    " os.getcwd()\n",
    " ```"
   ]
  },
  {
   "cell_type": "code",
   "execution_count": 1,
   "metadata": {
    "collapsed": true
   },
   "outputs": [],
   "source": [
    "import threading\n",
    "import multiprocessing\n",
    "import numpy as np\n",
    "import matplotlib.pyplot as plt\n",
    "import tensorflow as tf\n",
    "import tensorflow.contrib.slim as slim\n",
    "import scipy.signal\n",
    "%matplotlib inline\n",
    "from helper import *\n",
    "from vizdoom import *\n",
    "\n",
    "from random import choice\n",
    "from time import sleep\n",
    "from time import time\n"
   ]
  },
  {
   "cell_type": "code",
   "execution_count": 2,
   "metadata": {
    "collapsed": true
   },
   "outputs": [],
   "source": [
    "# Copies one set of variables to another.\n",
    "# Used to set worker network parameters to those of global network.\n",
    "def update_target_graph(from_scope, to_scope):\n",
    "    from_vars = tf.get_collection(tf.GraphKeys.TRAINABLE_VARIABLES, from_scope)\n",
    "    to_vars = tf.get_collection(tf.GraphKeys.TRAINABLE_VARIABLES, to_scope)\n",
    "    \n",
    "    op_holder = []\n",
    "    for from_var, to_var in zip(from_vars, to_vars):\n",
    "        op_holder.append(to_var.assign(from_var))\n",
    "    return op_holder\n",
    "\n",
    "# Processes Doom screen image to produce cropped and resized image. \n",
    "def process_frame(frame):\n",
    "    s = frame[10:-10,30:-30]\n",
    "    s = scipy.misc.imresize(s, [84, 84])\n",
    "    s = np.reshape(s, [np.prod(s.shape)]) / 255.0\n",
    "    return s\n",
    "\n",
    "# Discounting function used to calculate discounted returns.\n",
    "def discount(x, gamma):\n",
    "    return scipy.signal.lfilter([1], [1, -gamma], x[::-1], axis = 0)[::-1]\n",
    "\n",
    "#Used to initialize weights for policy and value output layers\n",
    "def normalized_columns_initializer(std=1.0):\n",
    "    def _initializer(shape, dtype=None, partition_info = None):\n",
    "        out = np.random.randn(*shape).astype(np.float32)\n",
    "        out *= std/np.sqrt(np.square(out).sum(axis=0,keepdims=True))\n",
    "        return tf.constant(out)\n",
    "    return _initializer"
   ]
  },
  {
   "cell_type": "markdown",
   "metadata": {},
   "source": [
    "### Actor-Critic Network"
   ]
  },
  {
   "cell_type": "code",
   "execution_count": 3,
   "metadata": {
    "collapsed": true
   },
   "outputs": [],
   "source": [
    "class AC_Network():\n",
    "    def __init__(self, s_size, a_size, scope, trainier):\n",
    "        with tf.variable_scope(scope):\n",
    "            #Input and visual encoding layers\n",
    "            self.inputs = tf.placeholder(shape=[None, s_size],dtype=tf.float32)\n",
    "            self.imageIn = tf.reshape(self.inputs, shape=[-1, 84, 84, 1])\n",
    "            self.conv1 = slim.conv2d(activation_fn=tf.nn.elu, \n",
    "                                     inputs=self.imageIn, num_outputs=16,\n",
    "                                     kernel_size=[8,8],stride=[4,4],padding='VALID')\n",
    "            self.conv2 = slim.conv2d(activation_fn=tf.nn.elu,\n",
    "                                     inputs=self.conv1, num_outputs=32,\n",
    "                                     kernel_size=[4,4],stride=[2,2],padding='VALID')\n",
    "            hidden = slim.fully_connected(slim.flatten(self.conv2), 255, activation_fn=tf.nn.elu)\n",
    "            \n",
    "            # Recurrent network for temporal dependencies\n",
    "            lstm_cell = tf.contrib.rnn.BasicLSTMCell(256, state_is_tuple=True)\n",
    "            c_init = np.zeros((1, lstm_cell.state_size.c), np.float32)\n",
    "            h_init = np.zeros((1, lstm_cell.state_size.h), np.float32)\n",
    "            self.state_init = [c_init, h_init]\n",
    "            c_in = tf.placeholder(tf.float32, [1, lstm_cell.state_size.c])\n",
    "            h_in = tf.placeholder(tf.float32, [1, lstm_cell.state_size.h])\n",
    "            self.state_in = (c_in, h_in)\n",
    "            rnn_in = tf.expand_dims(hidden, [0])\n",
    "            step_size = tf.shape(self.imageIn)[:1]\n",
    "            state_in = tf.contrib.rnn.LSTMStateTuple(c_in, h_in)\n",
    "            lstm_outputs, lstm_state = tf.nn.dynamic_rnn(\n",
    "                lstm_cell, rnn_in, initial_state=state_in, sequence_length=step_size,\n",
    "                time_major=False)\n",
    "            lstm_c, lstm_h = lstm_state\n",
    "            self.state_out=(lstm_c[:1, :], lstm_h[:1,:])\n",
    "            rnn_out=tf.reshape(lstm_outputs, [-1, 256])\n",
    "            \n",
    "            # Output layers for policy and value estimations\n",
    "            self.policy = slim.fully_connected(rnn_out, a_size,\n",
    "                                              activation_fn=tf.nn.softmax,\n",
    "                                              weights_initializer=normalized_columns_initializer(0.01),\n",
    "                                              biases_initializer=None)\n",
    "            self.value=slim.fully_connected(rnn_out,1,activation_fn=None,\n",
    "                                           weights_initializer=normalized_columns_initializer(1.0),\n",
    "                                           biases_initializer=None)\n",
    "            #Only the worker network need ops for loss functions and gradient updating.\n",
    "            if scope != 'global':\n",
    "                self.actions = tf.placeholder(shape=[None], dtype=tf.int32)\n",
    "                self.actions_onehot = tf.one_hot(self.actions, a_size, dtype=tf.float32)\n",
    "                self.target_v = tf.placeholder(shape=[None], dtype=tf.float32)\n",
    "                self.advantages = tf.placeholder(shape=[None],dtype=tf.float32)\n",
    "                \n",
    "                self.responsible_outputs = tf.reduce_sum(self.policy * self.actions_onehot,[1])\n",
    "                \n",
    "                # Loss function\n",
    "                self.value_loss = 0.5 * tf.reduce_sum(tf.square(self.target_v - tf.reshape(self.value, [-1])))\n",
    "                self.entropy = -tf.reduce_sum(self.policy * tf.log(self.policy))\n",
    "                self.policy_loss = -tf.reduce_sum(tf.log(self.responsible_outputs) * self.advantages)\n",
    "                self.loss = 0.5 * self.value_loss + self.policy_loss - self.entropy * 0.01\n",
    "                \n",
    "                # Get gradients from local network using local losses\n",
    "                local_vars = tf.get_collection(tf.GraphKeys.TRAINABLE_VARIABLES, scope)\n",
    "                self.gradients = tf.gradients(self.loss, local_vars)\n",
    "                self.var_norms = tf.global_norm(local_vars)\n",
    "                grads, self.grad_norms = tf.clip_by_global_norm(self.gradients, 40.0)\n",
    "                \n",
    "                # Apply local gradients to global network\n",
    "                global_vars = tf.get_collection(tf.GraphKeys.TRAINABLE_VARIABLES, 'global')\n",
    "                self.apply_grads = trainer.apply_gradients(zip(grads, global_vars))\n"
   ]
  },
  {
   "cell_type": "markdown",
   "metadata": {},
   "source": [
    "### Worker Agent"
   ]
  },
  {
   "cell_type": "code",
   "execution_count": 4,
   "metadata": {
    "collapsed": true
   },
   "outputs": [],
   "source": [
    "class Worker():\n",
    "    def __init__(self, game, name, s_size, a_size, trainer, model_path, global_episodes):\n",
    "        self.name=\"worker_\" + str(name)\n",
    "        self.number=name\n",
    "        self.model_path=model_path\n",
    "        self.trainer=trainer\n",
    "        self.global_episodes=global_episodes\n",
    "        self.increment=self.global_episodes.assign_add(1)\n",
    "        self.episode_rewards=[]\n",
    "        self.episode_lengths=[]\n",
    "        self.episode_mean_values=[]\n",
    "        self.summary_writer=tf.summary.FileWriter(\"train_\"+str(self.number))\n",
    "        \n",
    "        #Create the local copy of the network and the tensorflow op to copy global paramters to local network\n",
    "        self.local_AC = AC_Network(s_size, a_size, self.name, trainer)\n",
    "        self.update_local_ops = update_target_graph('global', self.name)\n",
    "        \n",
    "        #The Below code is related to setting up the Doom environment\n",
    "        game.set_doom_scenario_path(\"basic.wad\") # This corresponds to the simple task we will pose our agent\n",
    "        game.set_doom_map(\"map01\")\n",
    "        game.set_screen_resolution(ScreenResolution.RES_160X120)\n",
    "        game.set_screen_format(ScreenFormat.GRAY8)\n",
    "        game.set_render_hud(False)\n",
    "        game.set_render_crosshair(False)\n",
    "        game.set_render_weapon(True)\n",
    "        game.set_render_decals(False)\n",
    "        game.set_render_particles(False)\n",
    "        game.add_available_button(Button.MOVE_LEFT)\n",
    "        game.add_available_button(Button.MOVE_RIGHT)\n",
    "        game.add_available_button(Button.ATTACK)\n",
    "        game.add_available_game_variable(GameVariable.AMMO2)\n",
    "\n",
    "\n",
    "        game.add_available_game_variable(GameVariable.POSITION_X)\n",
    "        game.add_available_game_variable(GameVariable.POSITION_Y)\n",
    "        game.set_episode_timeout(300)\n",
    "        game.set_episode_start_time(10)\n",
    "        game.set_window_visible(False)\n",
    "        game.set_sound_enabled(False)\n",
    "        game.set_living_reward(-1)\n",
    "        game.set_mode(Mode.PLAYER)\n",
    "        game.init()\n",
    "        self.actions = self.actions = np.identity(a_size, dtype=bool).tolist()\n",
    "        # End Doom set-up\n",
    "        self.env = game\n",
    "        \n",
    "    def train(self, rollout, sess, gamma, bootstrap_value):\n",
    "        rollout = np.array(rollout)\n",
    "        observations=rollout[:, 0]\n",
    "        actions=rollout[:,1]\n",
    "        rewards=rollout[:,2]\n",
    "        next_observations=rollout[:,3]\n",
    "        values=rollout[:,5]\n",
    "        \n",
    "        # Here we take the rewards and values from the rollout, and use them to \n",
    "        # generate the advantage and discounted returns. \n",
    "        # The advantage function uses \"Generalized Advantage Estimation\"\n",
    "        self.rewards_plus = np.asarray(rewards.tolist()+[bootstrap_value])\n",
    "        discounted_rewards = discount(self.rewards_plus, gamma)[:-1]\n",
    "        self.value_plus = np.asarray(values.tolist() + [bootstrap_value])\n",
    "        advantages = rewards + gamma * self.value_plus[1:] - self.value_plus[:-1]\n",
    "        advantages = discount(advantages, gamma)\n",
    "        \n",
    "        # Update the global network using gradients from loss\n",
    "        # Generate network statistics to periodically save\n",
    "        rnn_state = self.local_AC.state_init\n",
    "        feed_dict = {self.local_AC.target_v:discounted_rewards,\n",
    "                     self.local_AC.inputs:np.vstack(observations),\n",
    "                     self.local_AC.actions:actions,\n",
    "                     self.local_AC.advantages:advantages,\n",
    "                     self.local_AC.state_in[0]:rnn_state[0],\n",
    "                     self.local_AC.state_in[1]:rnn_state[1]}\n",
    "        v_l,p_l,e_l,g_n,v_n,_=sess.run([self.local_AC.value_loss,\n",
    "                                        self.local_AC.policy_loss,\n",
    "                                        self.local_AC.entropy,\n",
    "                                        self.local_AC.grad_norms,\n",
    "                                        self.local_AC.var_norms,\n",
    "                                        self.local_AC.apply_grads],\n",
    "                                        feed_dict=feed_dict)\n",
    "        \n",
    "        return v_l/len(rollout),p_l/len(rollout), e_l/len(rollout), g_n, v_n\n",
    "    def work(self,max_episode_length, gamma,sess, coord, saver):\n",
    "        episode_count=sess.run(self.global_episodes)\n",
    "        total_steps=0\n",
    "        print(\"Starting worker \" + str(self.number))\n",
    "        with sess.as_default(), sess.graph.as_default():\n",
    "            while not coord.should_stop():\n",
    "                sess.run(self.update_local_ops)\n",
    "                episode_buffer=[]\n",
    "                episode_values=[]\n",
    "                episode_frames=[]\n",
    "                episode_reward=0\n",
    "                episode_step_count=0\n",
    "                d=False\n",
    "                \n",
    "                self.env.new_episode()\n",
    "                s = self.env.get_state().screen_buffer\n",
    "                episode_frames.append(s)\n",
    "                s = process_frame(s)\n",
    "                rnn_state=self.local_AC.state_init\n",
    "                \n",
    "                while self.env.is_episode_finished() == False:\n",
    "                    #Take an action using probabilities from policy network output.\n",
    "                    a_dist, v, rnn_state = sess.run([self.local_AC.policy, self.local_AC.value, self.local_AC.state_out],\n",
    "                                                    feed_dict={self.local_AC.inputs:[s],\n",
    "                                                               self.local_AC.state_in[0]:rnn_state[0],\n",
    "                                                               self.local_AC.state_in[1]:rnn_state[1]})\n",
    "                    a = np.random.choice(a_dist[0], p=a_dist[0])\n",
    "                    a = np.argmax(a_dist==a)\n",
    "                    \n",
    "                    r = self.env.make_action(self.actions[a])/100.0\n",
    "                    d = self.env.is_episode_finished()\n",
    "                    if d == False:\n",
    "                        s1 = self.env.get_state().screen_buffer\n",
    "                        episode_frames.append(s1)\n",
    "                        s1 = process_frame(s1)\n",
    "                    else:\n",
    "                        s1 = s\n",
    "                        \n",
    "                    episode_buffer.append([s,a,r,s1,d,v[0,0]])\n",
    "                    episode_values.append(v[0,0])\n",
    "                    \n",
    "                    episode_reward += r\n",
    "                    s = s1\n",
    "                    total_steps += 1\n",
    "                    episode_step_count += 1\n",
    "                    \n",
    "                    # If the episode hasn't ended, but the experience buffer is full, then we\n",
    "                    # make an update step using that experience rollout.\n",
    "                    if len(episode_buffer)==30 and d != True and episode_step_count != max_episode_length - 1:\n",
    "                        # Since we don't know what the true final return is, we \"bootstrap\" from our current\n",
    "                        # value estimation.\n",
    "                        v1 = sess.run(self.local_AC.value,\n",
    "                                      feed_dict={self.local_AC.inputs:[s],\n",
    "                                                 self.local_AC.state_in[0]:rnn_state[0],\n",
    "                                                 self.local_AC.state_in[1]:rnn_state[1]})[0,0]\n",
    "                        v_l,p_l,e_l,g_n,v_n = self.train(episode_buffer, sess, gamma, v1)\n",
    "                        episode_buffer = []\n",
    "                        sess.run(self.update_local_ops)\n",
    "                    if d==True:\n",
    "                        break\n",
    "                \n",
    "                self.episode_rewards.append(episode_reward)\n",
    "                self.episode_lengths.append(episode_step_count)\n",
    "                self.episode_mean_values.append(np.mean(episode_values))\n",
    "                \n",
    "                # Update the network using the experience buffer at the end of the episode.\n",
    "                if len(episode_buffer) != 0:\n",
    "                    v_l, p_l, e_l, g_n, v_n = self.train(episode_buffer, sess, gamma, 0.0)\n",
    "                    \n",
    "                # Periodically save gifs of episodes, model parameters, and summary statistics.\n",
    "                if episode_count % 5 == 0 and episode_count != 0:\n",
    "                    if self.name == 'worker_0' and episode_count % 25 == 0:\n",
    "                        time_per_step = 0.05\n",
    "                        images = np.array(episode_frames)\n",
    "                        make_gif(images,'./frames/images'+str(episode_count)+'.gif',\n",
    "                                 duration=len(images)*time_per_step, true_image=True, salience=False)\n",
    "                    if episode_count % 250 == 0 and self.name == 'worker_0':\n",
    "                        saver.save(sess,self.model_path+'/model-'+str(episode_count)+'.cptk')\n",
    "                        print(\"Saved Model\")\n",
    "                        \n",
    "                    mean_reward = np.mean(self.episode_rewards[-5:])\n",
    "                    mean_length = np.mean(self.episode_lengths[-5:])\n",
    "                    mean_value = np.mean(self.episode_mean_values[-5:])\n",
    "                    summary = tf.Summary()\n",
    "                    summary.value.add(tag='Perf/Reward',simple_value=float(mean_reward))\n",
    "                    summary.value.add(tag='Perf/Length',simple_value=float(mean_length))\n",
    "                    summary.value.add(tag='Perf/Value', simple_value=float(mean_value))\n",
    "                    summary.value.add(tag='Losses/Value Loss', simple_value=float(v_l))\n",
    "                    summary.value.add(tag='Losses/Policy loss', simple_value=float(p_l))\n",
    "                    summary.value.add(tag='Losses/Entropy',simple_value=float(e_l))\n",
    "                    summary.value.add(tag='Losses/Grad Norm', simple_value=float(g_n))\n",
    "                    summary.value.add(tag='Losses/Var Norm', simple_value=float(v_n))\n",
    "                    self.summary_writer.add_summary(summary, episode_count)\n",
    "                    \n",
    "                    self.summary_writer.flush()\n",
    "                    \n",
    "                if self.name == 'worker_0':\n",
    "                    sess.run(self.increment)\n",
    "                episode_count += 1"
   ]
  },
  {
   "cell_type": "code",
   "execution_count": null,
   "metadata": {
    "collapsed": true
   },
   "outputs": [],
   "source": [
    "max_episode_length = 300\n",
    "gamma = .99 # discount rate for advantage estimation and reward discounting\n",
    "s_size = 7056 # Observations are greyscale frames of 84 * 84 * 1\n",
    "a_size = 3 # Agent can move Left, Right, or Fire\n",
    "load_model = False\n",
    "model_path = './model'"
   ]
  },
  {
   "cell_type": "code",
   "execution_count": null,
   "metadata": {},
   "outputs": [
    {
     "name": "stdout",
     "output_type": "stream",
     "text": [
      "Starting worker 0\n",
      "Starting worker 1\n",
      "Starting worker 2\n",
      "Starting worker 3\n"
     ]
    },
    {
     "name": "stderr",
     "output_type": "stream",
     "text": [
      "100%|█████████▉| 300/301 [00:08<00:00, 36.81it/s]\n",
      " 99%|█████████▉| 132/133 [00:03<00:00, 33.87it/s]\n",
      "100%|█████████▉| 300/301 [00:07<00:00, 40.51it/s]\n",
      "100%|█████████▉| 300/301 [00:07<00:00, 38.14it/s]\n",
      "100%|█████████▉| 300/301 [00:08<00:00, 36.63it/s]\n",
      " 98%|█████████▊| 52/53 [00:00<00:00, 54.06it/s]\n",
      " 91%|█████████ | 10/11 [00:00<00:00, 40.21it/s]\n",
      "100%|█████████▉| 300/301 [00:07<00:00, 41.01it/s]\n",
      "100%|██████████| 126/126 [00:03<00:00, 35.34it/s]\n",
      " 99%|█████████▊| 72/73 [00:01<00:00, 40.54it/s]\n"
     ]
    },
    {
     "name": "stdout",
     "output_type": "stream",
     "text": [
      "Saved Model\n"
     ]
    },
    {
     "name": "stderr",
     "output_type": "stream",
     "text": [
      " 97%|█████████▋| 34/35 [00:00<00:00, 53.26it/s]\n",
      "100%|██████████| 28/28 [00:00<00:00, 64.82it/s]\n",
      " 97%|█████████▋| 30/31 [00:00<00:00, 96.64it/s] \n",
      " 98%|█████████▊| 52/53 [00:00<00:00, 103.86it/s]\n",
      " 92%|█████████▏| 11/12 [00:00<00:00, 78.31it/s]\n",
      " 97%|█████████▋| 36/37 [00:00<00:00, 94.68it/s] \n",
      " 98%|█████████▊| 55/56 [00:00<00:00, 109.22it/s]\n",
      " 97%|█████████▋| 30/31 [00:00<00:00, 105.04it/s]\n",
      " 97%|█████████▋| 34/35 [00:00<00:00, 69.60it/s]\n",
      " 98%|█████████▊| 59/60 [00:00<00:00, 75.90it/s]\n"
     ]
    },
    {
     "name": "stdout",
     "output_type": "stream",
     "text": [
      "Saved Model\n"
     ]
    },
    {
     "name": "stderr",
     "output_type": "stream",
     "text": [
      " 97%|█████████▋| 31/32 [00:00<00:00, 86.13it/s]\n",
      "100%|█████████▉| 300/301 [00:02<00:00, 100.06it/s]\n",
      " 98%|█████████▊| 40/41 [00:00<00:00, 82.29it/s]\n",
      " 98%|█████████▊| 54/55 [00:00<00:00, 110.00it/s]\n",
      " 97%|█████████▋| 36/37 [00:00<00:00, 86.49it/s]\n",
      " 98%|█████████▊| 53/54 [00:00<00:00, 89.22it/s]\n",
      " 91%|█████████ | 10/11 [00:00<00:00, 126.89it/s]\n",
      "100%|██████████| 51/51 [00:00<00:00, 89.90it/s]\n",
      " 98%|█████████▊| 58/59 [00:00<00:00, 91.98it/s]\n",
      " 95%|█████████▌| 19/20 [00:00<00:00, 92.97it/s]\n"
     ]
    },
    {
     "name": "stdout",
     "output_type": "stream",
     "text": [
      "Saved Model\n"
     ]
    },
    {
     "name": "stderr",
     "output_type": "stream",
     "text": [
      " 91%|█████████ | 10/11 [00:00<00:00, 98.58it/s]\n",
      " 96%|█████████▌| 24/25 [00:00<00:00, 134.97it/s]\n",
      "100%|██████████| 51/51 [00:00<00:00, 105.57it/s]\n",
      " 97%|█████████▋| 31/32 [00:00<00:00, 102.29it/s]\n",
      " 97%|█████████▋| 38/39 [00:00<00:00, 86.38it/s] \n",
      " 99%|█████████▊| 74/75 [00:00<00:00, 103.55it/s]\n",
      " 98%|█████████▊| 60/61 [00:00<00:00, 106.67it/s]\n",
      " 98%|█████████▊| 45/46 [00:00<00:00, 105.01it/s]\n",
      " 97%|█████████▋| 30/31 [00:00<00:00, 83.46it/s] \n",
      " 98%|█████████▊| 45/46 [00:00<00:00, 84.85it/s]\n"
     ]
    },
    {
     "name": "stdout",
     "output_type": "stream",
     "text": [
      "Saved Model\n"
     ]
    },
    {
     "name": "stderr",
     "output_type": "stream",
     "text": [
      " 97%|█████████▋| 35/36 [00:00<00:00, 94.81it/s]\n",
      " 95%|█████████▍| 18/19 [00:00<00:00, 100.85it/s]\n",
      " 92%|█████████▏| 11/12 [00:00<00:00, 79.55it/s]\n",
      " 94%|█████████▍| 16/17 [00:00<00:00, 42.05it/s]\n",
      " 95%|█████████▍| 18/19 [00:00<00:00, 100.77it/s]\n",
      " 97%|█████████▋| 32/33 [00:00<00:00, 79.48it/s]\n",
      " 94%|█████████▍| 15/16 [00:00<00:00, 73.09it/s]\n",
      " 97%|█████████▋| 29/30 [00:00<00:00, 90.06it/s]\n",
      " 94%|█████████▍| 17/18 [00:00<00:00, 83.50it/s] \n",
      " 98%|█████████▊| 47/48 [00:00<00:00, 93.52it/s] \n"
     ]
    },
    {
     "name": "stdout",
     "output_type": "stream",
     "text": [
      "Saved Model\n"
     ]
    },
    {
     "name": "stderr",
     "output_type": "stream",
     "text": [
      " 96%|█████████▌| 25/26 [00:00<00:00, 86.66it/s]\n",
      " 98%|█████████▊| 41/42 [00:00<00:00, 77.07it/s]\n",
      " 97%|█████████▋| 29/30 [00:00<00:00, 106.33it/s]\n",
      " 93%|█████████▎| 13/14 [00:00<00:00, 149.71it/s]\n",
      " 95%|█████████▌| 19/20 [00:00<00:00, 105.62it/s]\n",
      " 97%|█████████▋| 34/35 [00:00<00:00, 98.25it/s]\n",
      " 92%|█████████▏| 11/12 [00:00<00:00, 119.86it/s]\n",
      " 96%|█████████▌| 23/24 [00:00<00:00, 101.13it/s]\n",
      " 98%|█████████▊| 49/50 [00:00<00:00, 100.07it/s]\n",
      " 98%|█████████▊| 42/43 [00:00<00:00, 90.30it/s] \n"
     ]
    },
    {
     "name": "stdout",
     "output_type": "stream",
     "text": [
      "Saved Model\n"
     ]
    },
    {
     "name": "stderr",
     "output_type": "stream",
     "text": [
      " 91%|█████████ | 10/11 [00:00<00:00, 60.90it/s]\n",
      " 95%|█████████▌| 21/22 [00:00<00:00, 103.57it/s]\n",
      " 94%|█████████▍| 15/16 [00:00<00:00, 113.66it/s]\n",
      " 91%|█████████ | 10/11 [00:00<00:00, 80.39it/s]\n",
      " 98%|█████████▊| 48/49 [00:00<00:00, 102.71it/s]\n",
      " 95%|█████████▌| 20/21 [00:00<00:00, 119.49it/s]\n",
      " 98%|█████████▊| 44/45 [00:00<00:00, 90.22it/s]\n",
      " 95%|█████████▌| 21/22 [00:00<00:00, 90.63it/s]\n",
      " 97%|█████████▋| 29/30 [00:00<00:00, 105.93it/s]\n",
      " 93%|█████████▎| 13/14 [00:00<00:00, 83.52it/s]\n"
     ]
    },
    {
     "name": "stdout",
     "output_type": "stream",
     "text": [
      "Saved Model\n"
     ]
    },
    {
     "name": "stderr",
     "output_type": "stream",
     "text": [
      " 98%|█████████▊| 49/50 [00:00<00:00, 96.11it/s]\n",
      "100%|██████████| 14/14 [00:00<00:00, 168.16it/s]\n",
      " 91%|█████████ | 10/11 [00:00<00:00, 95.53it/s]\n",
      " 91%|█████████ | 10/11 [00:00<00:00, 78.34it/s]\n",
      "100%|██████████| 28/28 [00:00<00:00, 140.70it/s]\n",
      " 98%|█████████▊| 39/40 [00:00<00:00, 139.13it/s]\n",
      " 96%|█████████▋| 27/28 [00:00<00:00, 96.25it/s]\n",
      " 98%|█████████▊| 43/44 [00:00<00:00, 97.57it/s]\n",
      "100%|██████████| 14/14 [00:00<00:00, 81.72it/s]\n",
      " 95%|█████████▌| 20/21 [00:00<00:00, 98.07it/s] \n"
     ]
    },
    {
     "name": "stdout",
     "output_type": "stream",
     "text": [
      "Saved Model\n"
     ]
    },
    {
     "name": "stderr",
     "output_type": "stream",
     "text": [
      " 92%|█████████▏| 12/13 [00:00<00:00, 83.50it/s]\n",
      " 98%|█████████▊| 44/45 [00:00<00:00, 87.75it/s]\n",
      " 98%|█████████▊| 62/63 [00:00<00:00, 90.18it/s]\n",
      " 97%|█████████▋| 34/35 [00:00<00:00, 112.99it/s]\n",
      " 96%|█████████▌| 25/26 [00:00<00:00, 64.01it/s]\n",
      " 92%|█████████▏| 12/13 [00:00<00:00, 72.01it/s]\n",
      " 96%|█████████▌| 24/25 [00:00<00:00, 109.64it/s]\n",
      " 94%|█████████▍| 17/18 [00:00<00:00, 113.59it/s]\n",
      " 96%|█████████▋| 26/27 [00:00<00:00, 100.91it/s]\n",
      " 96%|█████████▌| 25/26 [00:00<00:00, 128.92it/s]\n"
     ]
    },
    {
     "name": "stdout",
     "output_type": "stream",
     "text": [
      "Saved Model\n"
     ]
    },
    {
     "name": "stderr",
     "output_type": "stream",
     "text": [
      " 96%|█████████▌| 22/23 [00:00<00:00, 110.19it/s]\n",
      " 97%|█████████▋| 29/30 [00:00<00:00, 103.08it/s]\n",
      " 98%|█████████▊| 41/42 [00:00<00:00, 128.86it/s]\n",
      " 97%|█████████▋| 31/32 [00:00<00:00, 94.81it/s]\n",
      " 92%|█████████▏| 11/12 [00:00<00:00, 132.04it/s]\n",
      " 95%|█████████▌| 19/20 [00:00<00:00, 102.31it/s]\n",
      " 96%|█████████▋| 26/27 [00:00<00:00, 106.17it/s]\n",
      " 91%|█████████ | 10/11 [00:00<00:00, 110.65it/s]\n",
      " 98%|█████████▊| 45/46 [00:00<00:00, 112.49it/s]\n",
      " 93%|█████████▎| 13/14 [00:00<00:00, 118.82it/s]\n"
     ]
    },
    {
     "name": "stdout",
     "output_type": "stream",
     "text": [
      "Saved Model\n"
     ]
    },
    {
     "name": "stderr",
     "output_type": "stream",
     "text": [
      " 92%|█████████▏| 12/13 [00:00<00:00, 143.03it/s]\n",
      " 97%|█████████▋| 33/34 [00:00<00:00, 106.70it/s]\n",
      " 92%|█████████▏| 11/12 [00:00<00:00, 134.65it/s]\n",
      " 93%|█████████▎| 13/14 [00:00<00:00, 129.80it/s]\n",
      " 97%|█████████▋| 38/39 [00:00<00:00, 134.43it/s]\n",
      " 91%|█████████ | 10/11 [00:00<00:00, 79.76it/s]\n",
      " 95%|█████████▌| 21/22 [00:00<00:00, 108.23it/s]\n",
      " 97%|█████████▋| 33/34 [00:00<00:00, 109.95it/s]\n",
      " 95%|█████████▌| 21/22 [00:00<00:00, 120.10it/s]\n",
      " 97%|█████████▋| 30/31 [00:00<00:00, 97.49it/s]\n"
     ]
    },
    {
     "name": "stdout",
     "output_type": "stream",
     "text": [
      "Saved Model\n"
     ]
    },
    {
     "name": "stderr",
     "output_type": "stream",
     "text": [
      " 97%|█████████▋| 30/31 [00:00<00:00, 89.42it/s]\n",
      " 97%|█████████▋| 38/39 [00:00<00:00, 117.42it/s]\n",
      " 96%|█████████▋| 27/28 [00:00<00:00, 109.81it/s]\n",
      " 98%|█████████▊| 43/44 [00:00<00:00, 95.91it/s]\n",
      " 98%|█████████▊| 43/44 [00:00<00:00, 144.86it/s]\n",
      " 93%|█████████▎| 13/14 [00:00<00:00, 81.15it/s]\n",
      " 97%|█████████▋| 31/32 [00:00<00:00, 101.37it/s]\n",
      " 94%|█████████▍| 17/18 [00:00<00:00, 109.14it/s]\n",
      " 96%|█████████▌| 25/26 [00:00<00:00, 104.25it/s]\n",
      " 97%|█████████▋| 34/35 [00:00<00:00, 104.22it/s]\n"
     ]
    },
    {
     "name": "stdout",
     "output_type": "stream",
     "text": [
      "Saved Model\n"
     ]
    },
    {
     "name": "stderr",
     "output_type": "stream",
     "text": [
      " 92%|█████████▏| 12/13 [00:00<00:00, 99.05it/s] \n",
      " 97%|█████████▋| 30/31 [00:00<00:00, 100.93it/s]\n",
      " 91%|█████████ | 10/11 [00:00<00:00, 98.07it/s]\n",
      " 97%|█████████▋| 30/31 [00:00<00:00, 105.45it/s]\n",
      " 92%|█████████▏| 11/12 [00:00<00:00, 133.64it/s]\n",
      " 91%|█████████ | 10/11 [00:00<00:00, 121.54it/s]\n",
      " 96%|█████████▌| 23/24 [00:00<00:00, 122.39it/s]\n",
      " 92%|█████████▏| 12/13 [00:00<00:00, 97.30it/s]\n",
      " 95%|█████████▌| 20/21 [00:00<00:00, 137.46it/s]\n",
      " 91%|█████████ | 10/11 [00:00<00:00, 114.43it/s]\n"
     ]
    },
    {
     "name": "stdout",
     "output_type": "stream",
     "text": [
      "Saved Model\n"
     ]
    },
    {
     "name": "stderr",
     "output_type": "stream",
     "text": [
      " 95%|█████████▌| 19/20 [00:00<00:00, 113.74it/s]\n",
      " 97%|█████████▋| 37/38 [00:00<00:00, 108.39it/s]\n",
      " 95%|█████████▌| 20/21 [00:00<00:00, 118.91it/s]\n",
      "100%|██████████| 14/14 [00:00<00:00, 95.97it/s]\n",
      " 96%|█████████▋| 27/28 [00:00<00:00, 97.91it/s]\n",
      "100%|██████████| 28/28 [00:00<00:00, 134.03it/s]\n",
      " 97%|█████████▋| 34/35 [00:00<00:00, 125.71it/s]\n",
      " 95%|█████████▍| 18/19 [00:00<00:00, 129.16it/s]\n",
      " 91%|█████████ | 10/11 [00:00<00:00, 66.04it/s]\n",
      " 95%|█████████▌| 20/21 [00:00<00:00, 97.68it/s] \n"
     ]
    },
    {
     "name": "stdout",
     "output_type": "stream",
     "text": [
      "Saved Model\n"
     ]
    },
    {
     "name": "stderr",
     "output_type": "stream",
     "text": [
      " 96%|█████████▌| 22/23 [00:00<00:00, 84.63it/s]\n",
      "100%|██████████| 28/28 [00:00<00:00, 91.50it/s] \n",
      " 96%|█████████▌| 22/23 [00:00<00:00, 129.82it/s]\n",
      " 97%|█████████▋| 33/34 [00:00<00:00, 96.29it/s] \n",
      " 95%|█████████▌| 20/21 [00:00<00:00, 124.36it/s]\n",
      " 96%|█████████▋| 26/27 [00:00<00:00, 113.61it/s]\n",
      " 97%|█████████▋| 35/36 [00:00<00:00, 129.66it/s]\n",
      " 96%|█████████▋| 26/27 [00:00<00:00, 137.04it/s]\n",
      " 98%|█████████▊| 43/44 [00:00<00:00, 120.95it/s]\n",
      " 92%|█████████▏| 12/13 [00:00<00:00, 99.52it/s] \n"
     ]
    },
    {
     "name": "stdout",
     "output_type": "stream",
     "text": [
      "Saved Model\n"
     ]
    },
    {
     "name": "stderr",
     "output_type": "stream",
     "text": [
      " 96%|█████████▌| 24/25 [00:00<00:00, 108.06it/s]\n",
      " 98%|█████████▊| 47/48 [00:00<00:00, 106.28it/s]\n",
      " 97%|█████████▋| 31/32 [00:00<00:00, 110.87it/s]\n",
      " 97%|█████████▋| 30/31 [00:00<00:00, 130.02it/s]\n",
      " 91%|█████████ | 10/11 [00:00<00:00, 129.07it/s]\n",
      " 92%|█████████▏| 11/12 [00:00<00:00, 81.54it/s]\n",
      " 95%|█████████▌| 19/20 [00:00<00:00, 94.44it/s]\n",
      " 94%|█████████▍| 15/16 [00:00<00:00, 88.00it/s]\n",
      " 92%|█████████▏| 12/13 [00:00<00:00, 157.12it/s]\n",
      " 91%|█████████ | 10/11 [00:00<00:00, 80.41it/s]\n"
     ]
    },
    {
     "name": "stdout",
     "output_type": "stream",
     "text": [
      "Saved Model\n"
     ]
    },
    {
     "name": "stderr",
     "output_type": "stream",
     "text": [
      " 92%|█████████▏| 11/12 [00:00<00:00, 111.94it/s]\n",
      " 97%|█████████▋| 35/36 [00:00<00:00, 118.90it/s]\n",
      " 94%|█████████▍| 17/18 [00:00<00:00, 126.91it/s]\n",
      " 94%|█████████▍| 17/18 [00:00<00:00, 105.79it/s]\n",
      " 96%|█████████▋| 27/28 [00:00<00:00, 99.97it/s] \n",
      " 91%|█████████ | 10/11 [00:00<00:00, 73.48it/s]\n",
      " 94%|█████████▍| 16/17 [00:00<00:00, 101.84it/s]\n",
      " 91%|█████████ | 10/11 [00:00<00:00, 100.74it/s]\n",
      " 96%|█████████▋| 26/27 [00:00<00:00, 99.01it/s] \n",
      " 96%|█████████▌| 24/25 [00:00<00:00, 104.87it/s]\n"
     ]
    },
    {
     "name": "stdout",
     "output_type": "stream",
     "text": [
      "Saved Model\n"
     ]
    },
    {
     "name": "stderr",
     "output_type": "stream",
     "text": [
      " 97%|█████████▋| 36/37 [00:00<00:00, 104.60it/s]\n",
      " 94%|█████████▍| 17/18 [00:00<00:00, 123.18it/s]\n",
      " 91%|█████████ | 10/11 [00:00<00:00, 112.17it/s]\n",
      " 98%|█████████▊| 39/40 [00:00<00:00, 90.77it/s] \n",
      " 91%|█████████ | 10/11 [00:00<00:00, 77.04it/s]\n",
      " 97%|█████████▋| 31/32 [00:00<00:00, 107.09it/s]\n",
      " 91%|█████████ | 10/11 [00:00<00:00, 131.26it/s]\n",
      " 96%|█████████▋| 26/27 [00:00<00:00, 92.52it/s]\n",
      " 94%|█████████▍| 15/16 [00:00<00:00, 80.38it/s]\n",
      " 98%|█████████▊| 45/46 [00:00<00:00, 119.66it/s]\n"
     ]
    },
    {
     "name": "stdout",
     "output_type": "stream",
     "text": [
      "Saved Model\n"
     ]
    },
    {
     "name": "stderr",
     "output_type": "stream",
     "text": [
      "100%|██████████| 28/28 [00:00<00:00, 97.98it/s]\n",
      " 95%|█████████▌| 19/20 [00:00<00:00, 71.76it/s]\n",
      " 91%|█████████ | 10/11 [00:00<00:00, 98.94it/s]\n",
      "100%|██████████| 28/28 [00:00<00:00, 89.46it/s] \n",
      " 91%|█████████ | 10/11 [00:00<00:00, 109.96it/s]\n",
      " 94%|█████████▍| 15/16 [00:00<00:00, 96.90it/s] \n",
      " 97%|█████████▋| 31/32 [00:00<00:00, 84.11it/s]\n",
      " 94%|█████████▍| 16/17 [00:00<00:00, 81.79it/s]\n",
      " 97%|█████████▋| 29/30 [00:00<00:00, 98.24it/s]\n",
      " 97%|█████████▋| 35/36 [00:00<00:00, 131.38it/s]\n"
     ]
    },
    {
     "name": "stdout",
     "output_type": "stream",
     "text": [
      "Saved Model\n"
     ]
    },
    {
     "name": "stderr",
     "output_type": "stream",
     "text": [
      "100%|██████████| 14/14 [00:00<00:00, 74.55it/s]\n",
      " 98%|█████████▊| 42/43 [00:00<00:00, 84.51it/s] \n",
      " 97%|█████████▋| 33/34 [00:00<00:00, 76.26it/s]\n",
      " 97%|█████████▋| 36/37 [00:00<00:00, 81.28it/s]\n",
      " 91%|█████████ | 10/11 [00:00<00:00, 132.67it/s]\n",
      "100%|██████████| 14/14 [00:00<00:00, 111.31it/s]\n",
      " 97%|█████████▋| 32/33 [00:00<00:00, 64.62it/s]\n",
      " 91%|█████████ | 10/11 [00:00<00:00, 49.60it/s]\n",
      " 97%|█████████▋| 29/30 [00:00<00:00, 90.20it/s]\n",
      " 97%|█████████▋| 31/32 [00:00<00:00, 71.63it/s]\n"
     ]
    },
    {
     "name": "stdout",
     "output_type": "stream",
     "text": [
      "Saved Model\n"
     ]
    },
    {
     "name": "stderr",
     "output_type": "stream",
     "text": [
      " 96%|█████████▌| 24/25 [00:00<00:00, 64.85it/s]\n",
      " 91%|█████████ | 10/11 [00:00<00:00, 148.05it/s]\n",
      " 95%|█████████▍| 18/19 [00:00<00:00, 102.99it/s]\n",
      " 91%|█████████ | 10/11 [00:00<00:00, 67.54it/s]\n",
      " 91%|█████████ | 10/11 [00:00<00:00, 132.38it/s]\n",
      " 97%|█████████▋| 31/32 [00:00<00:00, 113.14it/s]\n",
      " 94%|█████████▍| 15/16 [00:00<00:00, 95.84it/s] \n",
      " 98%|█████████▊| 45/46 [00:00<00:00, 75.76it/s]\n",
      " 98%|█████████▊| 40/41 [00:00<00:00, 86.87it/s]\n",
      " 91%|█████████ | 10/11 [00:00<00:00, 93.95it/s]\n"
     ]
    },
    {
     "name": "stdout",
     "output_type": "stream",
     "text": [
      "Saved Model\n"
     ]
    },
    {
     "name": "stderr",
     "output_type": "stream",
     "text": [
      " 93%|█████████▎| 13/14 [00:00<00:00, 131.38it/s]\n",
      " 91%|█████████ | 10/11 [00:00<00:00, 104.44it/s]\n",
      " 91%|█████████ | 10/11 [00:00<00:00, 121.12it/s]\n",
      " 98%|█████████▊| 45/46 [00:00<00:00, 73.36it/s]\n",
      " 98%|█████████▊| 45/46 [00:00<00:00, 94.35it/s]\n",
      " 93%|█████████▎| 13/14 [00:00<00:00, 85.80it/s]\n",
      " 92%|█████████▏| 12/13 [00:00<00:00, 75.97it/s]\n",
      " 95%|█████████▌| 20/21 [00:00<00:00, 103.67it/s]\n",
      "100%|██████████| 28/28 [00:00<00:00, 101.08it/s]\n",
      " 97%|█████████▋| 31/32 [00:00<00:00, 104.84it/s]\n"
     ]
    },
    {
     "name": "stdout",
     "output_type": "stream",
     "text": [
      "Saved Model\n"
     ]
    },
    {
     "name": "stderr",
     "output_type": "stream",
     "text": [
      " 94%|█████████▍| 15/16 [00:00<00:00, 88.40it/s] \n",
      " 91%|█████████ | 10/11 [00:00<00:00, 114.93it/s]\n",
      " 91%|█████████ | 10/11 [00:00<00:00, 74.81it/s]\n",
      " 96%|█████████▌| 22/23 [00:00<00:00, 80.04it/s]\n",
      " 97%|█████████▋| 31/32 [00:00<00:00, 123.50it/s]\n",
      " 97%|█████████▋| 31/32 [00:00<00:00, 114.90it/s]\n",
      " 95%|█████████▌| 21/22 [00:00<00:00, 54.62it/s]\n",
      " 98%|█████████▊| 45/46 [00:00<00:00, 110.99it/s]\n",
      " 91%|█████████ | 10/11 [00:00<00:00, 110.63it/s]\n",
      "100%|██████████| 28/28 [00:00<00:00, 86.22it/s]\n"
     ]
    },
    {
     "name": "stdout",
     "output_type": "stream",
     "text": [
      "Saved Model\n"
     ]
    },
    {
     "name": "stderr",
     "output_type": "stream",
     "text": [
      " 92%|█████████▏| 12/13 [00:00<00:00, 113.51it/s]\n",
      " 94%|█████████▍| 16/17 [00:00<00:00, 104.82it/s]\n",
      " 95%|█████████▌| 21/22 [00:00<00:00, 120.73it/s]\n",
      " 95%|█████████▌| 21/22 [00:00<00:00, 103.70it/s]\n",
      " 97%|█████████▋| 35/36 [00:00<00:00, 129.30it/s]\n",
      " 96%|█████████▋| 27/28 [00:00<00:00, 87.39it/s]\n",
      " 97%|█████████▋| 36/37 [00:00<00:00, 96.69it/s] \n",
      " 97%|█████████▋| 31/32 [00:00<00:00, 72.06it/s]\n",
      " 98%|█████████▊| 40/41 [00:00<00:00, 110.04it/s]\n",
      " 96%|█████████▌| 22/23 [00:00<00:00, 103.57it/s]\n"
     ]
    },
    {
     "name": "stdout",
     "output_type": "stream",
     "text": [
      "Saved Model\n"
     ]
    },
    {
     "name": "stderr",
     "output_type": "stream",
     "text": [
      " 97%|█████████▋| 31/32 [00:00<00:00, 102.71it/s]\n",
      " 95%|█████████▌| 20/21 [00:00<00:00, 78.23it/s]\n",
      " 91%|█████████ | 10/11 [00:00<00:00, 77.61it/s]\n",
      " 96%|█████████▌| 24/25 [00:00<00:00, 101.35it/s]\n",
      " 92%|█████████▏| 11/12 [00:00<00:00, 103.55it/s]\n",
      " 92%|█████████▏| 11/12 [00:00<00:00, 117.39it/s]\n",
      " 95%|█████████▌| 21/22 [00:00<00:00, 91.58it/s]\n",
      " 91%|█████████ | 10/11 [00:00<00:00, 112.32it/s]\n",
      " 96%|█████████▌| 23/24 [00:00<00:00, 90.45it/s]\n",
      " 96%|█████████▌| 25/26 [00:00<00:00, 89.62it/s]\n"
     ]
    },
    {
     "name": "stdout",
     "output_type": "stream",
     "text": [
      "Saved Model\n"
     ]
    },
    {
     "name": "stderr",
     "output_type": "stream",
     "text": [
      " 97%|█████████▋| 31/32 [00:00<00:00, 68.07it/s]\n",
      " 91%|█████████ | 10/11 [00:00<00:00, 77.79it/s]\n",
      "100%|██████████| 14/14 [00:00<00:00, 98.98it/s] \n",
      " 95%|█████████▍| 18/19 [00:00<00:00, 85.18it/s]\n",
      " 95%|█████████▌| 21/22 [00:00<00:00, 79.13it/s]\n",
      " 91%|█████████ | 10/11 [00:00<00:00, 105.73it/s]\n",
      " 94%|█████████▍| 15/16 [00:00<00:00, 104.14it/s]\n",
      " 91%|█████████ | 10/11 [00:00<00:00, 66.16it/s]\n",
      " 96%|█████████▋| 26/27 [00:00<00:00, 83.86it/s]\n",
      " 97%|█████████▋| 30/31 [00:00<00:00, 98.70it/s]\n"
     ]
    },
    {
     "name": "stdout",
     "output_type": "stream",
     "text": [
      "Saved Model\n"
     ]
    },
    {
     "name": "stderr",
     "output_type": "stream",
     "text": [
      " 94%|█████████▍| 17/18 [00:00<00:00, 70.96it/s]\n",
      " 91%|█████████ | 10/11 [00:00<00:00, 97.24it/s]\n",
      " 97%|█████████▋| 37/38 [00:00<00:00, 84.57it/s]\n",
      " 92%|█████████▏| 11/12 [00:00<00:00, 66.79it/s]\n",
      " 95%|█████████▍| 18/19 [00:00<00:00, 88.40it/s]\n",
      " 91%|█████████ | 10/11 [00:00<00:00, 79.45it/s]\n",
      " 91%|█████████ | 10/11 [00:00<00:00, 79.33it/s]\n",
      "100%|██████████| 28/28 [00:00<00:00, 159.60it/s]\n",
      " 92%|█████████▏| 12/13 [00:00<00:00, 90.96it/s]\n",
      " 94%|█████████▍| 16/17 [00:00<00:00, 83.76it/s]\n"
     ]
    },
    {
     "name": "stdout",
     "output_type": "stream",
     "text": [
      "Saved Model\n"
     ]
    },
    {
     "name": "stderr",
     "output_type": "stream",
     "text": [
      " 95%|█████████▌| 21/22 [00:00<00:00, 78.34it/s] \n",
      " 92%|█████████▏| 11/12 [00:00<00:00, 86.52it/s]\n",
      " 97%|█████████▋| 31/32 [00:00<00:00, 84.56it/s]\n",
      " 94%|█████████▍| 15/16 [00:00<00:00, 76.54it/s]\n",
      " 96%|█████████▌| 24/25 [00:00<00:00, 81.63it/s]\n",
      " 96%|█████████▌| 25/26 [00:00<00:00, 70.79it/s] \n",
      " 96%|█████████▌| 22/23 [00:00<00:00, 88.26it/s]\n",
      " 93%|█████████▎| 13/14 [00:00<00:00, 89.14it/s]\n",
      " 91%|█████████ | 10/11 [00:00<00:00, 132.66it/s]\n",
      " 91%|█████████ | 10/11 [00:00<00:00, 81.37it/s]\n"
     ]
    },
    {
     "name": "stdout",
     "output_type": "stream",
     "text": [
      "Saved Model\n"
     ]
    },
    {
     "name": "stderr",
     "output_type": "stream",
     "text": [
      " 94%|█████████▍| 15/16 [00:00<00:00, 104.99it/s]\n",
      " 97%|█████████▋| 31/32 [00:00<00:00, 99.76it/s]\n",
      " 97%|█████████▋| 31/32 [00:00<00:00, 124.49it/s]\n",
      " 91%|█████████ | 10/11 [00:00<00:00, 67.72it/s]\n",
      " 96%|█████████▌| 22/23 [00:00<00:00, 95.16it/s]\n",
      " 91%|█████████ | 10/11 [00:00<00:00, 96.84it/s]\n",
      " 92%|█████████▏| 11/12 [00:00<00:00, 71.15it/s]\n",
      " 92%|█████████▏| 11/12 [00:00<00:00, 75.90it/s]\n",
      "100%|██████████| 14/14 [00:00<00:00, 91.37it/s]\n",
      " 98%|█████████▊| 45/46 [00:00<00:00, 102.39it/s]\n"
     ]
    },
    {
     "name": "stdout",
     "output_type": "stream",
     "text": [
      "Saved Model\n"
     ]
    },
    {
     "name": "stderr",
     "output_type": "stream",
     "text": [
      "100%|██████████| 28/28 [00:00<00:00, 111.41it/s]\n",
      " 92%|█████████▏| 11/12 [00:00<00:00, 86.40it/s]\n",
      " 96%|█████████▋| 26/27 [00:00<00:00, 93.83it/s] \n",
      " 96%|█████████▌| 25/26 [00:00<00:00, 111.52it/s]\n",
      " 97%|█████████▋| 38/39 [00:00<00:00, 94.46it/s]\n",
      " 97%|█████████▋| 31/32 [00:00<00:00, 98.70it/s] \n",
      " 96%|█████████▌| 22/23 [00:00<00:00, 83.96it/s]\n",
      " 95%|█████████▌| 21/22 [00:00<00:00, 102.11it/s]\n",
      " 96%|█████████▌| 25/26 [00:00<00:00, 117.83it/s]\n",
      " 97%|█████████▋| 31/32 [00:00<00:00, 68.46it/s]\n"
     ]
    },
    {
     "name": "stdout",
     "output_type": "stream",
     "text": [
      "Saved Model\n"
     ]
    },
    {
     "name": "stderr",
     "output_type": "stream",
     "text": [
      " 95%|█████████▌| 21/22 [00:00<00:00, 51.12it/s]\n",
      " 94%|█████████▍| 17/18 [00:00<00:00, 84.83it/s]\n",
      " 97%|█████████▋| 31/32 [00:00<00:00, 87.34it/s]\n",
      " 95%|█████████▌| 21/22 [00:00<00:00, 66.85it/s]\n",
      " 97%|█████████▋| 31/32 [00:00<00:00, 83.64it/s]\n",
      " 97%|█████████▋| 31/32 [00:00<00:00, 93.29it/s]\n",
      " 91%|█████████ | 10/11 [00:00<00:00, 131.82it/s]\n",
      " 95%|█████████▍| 18/19 [00:00<00:00, 85.75it/s] \n",
      " 96%|█████████▌| 25/26 [00:00<00:00, 67.59it/s]\n",
      " 97%|█████████▋| 31/32 [00:00<00:00, 90.56it/s]\n"
     ]
    },
    {
     "name": "stdout",
     "output_type": "stream",
     "text": [
      "Saved Model\n"
     ]
    },
    {
     "name": "stderr",
     "output_type": "stream",
     "text": [
      " 96%|█████████▌| 22/23 [00:00<00:00, 99.60it/s] \n",
      " 96%|█████████▌| 24/25 [00:00<00:00, 104.59it/s]\n",
      " 92%|█████████▏| 11/12 [00:00<00:00, 144.40it/s]\n",
      " 97%|█████████▋| 31/32 [00:00<00:00, 81.21it/s]\n",
      " 96%|█████████▌| 24/25 [00:00<00:00, 78.31it/s]\n",
      " 96%|█████████▋| 27/28 [00:00<00:00, 96.67it/s]\n",
      " 91%|█████████ | 10/11 [00:00<00:00, 97.65it/s]\n",
      " 92%|█████████▏| 11/12 [00:00<00:00, 111.83it/s]\n",
      " 91%|█████████ | 10/11 [00:00<00:00, 78.80it/s]\n",
      " 94%|█████████▍| 17/18 [00:00<00:00, 105.62it/s]\n"
     ]
    },
    {
     "name": "stdout",
     "output_type": "stream",
     "text": [
      "Saved Model\n"
     ]
    },
    {
     "name": "stderr",
     "output_type": "stream",
     "text": [
      " 92%|█████████▏| 11/12 [00:00<00:00, 81.73it/s]\n",
      " 96%|█████████▌| 23/24 [00:00<00:00, 121.05it/s]\n",
      " 97%|█████████▋| 32/33 [00:00<00:00, 107.91it/s]\n",
      " 97%|█████████▋| 31/32 [00:00<00:00, 45.43it/s]\n",
      " 96%|█████████▌| 23/24 [00:00<00:00, 80.82it/s]\n",
      " 98%|█████████▊| 61/62 [00:00<00:00, 84.54it/s]\n",
      " 97%|█████████▋| 31/32 [00:00<00:00, 75.21it/s]\n",
      " 97%|█████████▋| 30/31 [00:00<00:00, 55.93it/s]\n",
      " 94%|█████████▍| 16/17 [00:00<00:00, 78.56it/s]\n",
      " 91%|█████████ | 10/11 [00:00<00:00, 99.39it/s]\n"
     ]
    },
    {
     "name": "stdout",
     "output_type": "stream",
     "text": [
      "Saved Model\n"
     ]
    },
    {
     "name": "stderr",
     "output_type": "stream",
     "text": [
      " 99%|█████████▊| 74/75 [00:00<00:00, 94.06it/s]\n",
      " 94%|█████████▍| 16/17 [00:00<00:00, 94.61it/s]\n",
      " 92%|█████████▏| 11/12 [00:00<00:00, 103.08it/s]\n",
      " 96%|█████████▌| 24/25 [00:00<00:00, 70.81it/s]\n",
      "100%|██████████| 14/14 [00:00<00:00, 103.40it/s]\n",
      " 97%|█████████▋| 31/32 [00:00<00:00, 143.50it/s]\n",
      " 95%|█████████▌| 20/21 [00:00<00:00, 101.18it/s]\n",
      " 97%|█████████▋| 31/32 [00:00<00:00, 153.43it/s]\n",
      " 97%|█████████▋| 31/32 [00:00<00:00, 133.72it/s]\n",
      " 96%|█████████▌| 23/24 [00:00<00:00, 115.62it/s]\n"
     ]
    },
    {
     "name": "stdout",
     "output_type": "stream",
     "text": [
      "Saved Model\n"
     ]
    },
    {
     "name": "stderr",
     "output_type": "stream",
     "text": [
      " 97%|█████████▋| 31/32 [00:00<00:00, 66.10it/s]\n",
      " 92%|█████████▏| 12/13 [00:00<00:00, 93.94it/s]\n",
      " 91%|█████████ | 10/11 [00:00<00:00, 113.87it/s]\n",
      " 95%|█████████▌| 21/22 [00:00<00:00, 79.64it/s]\n",
      " 95%|█████████▌| 20/21 [00:00<00:00, 122.80it/s]\n",
      " 94%|█████████▍| 16/17 [00:00<00:00, 66.47it/s]\n",
      " 94%|█████████▍| 16/17 [00:00<00:00, 108.12it/s]\n",
      " 97%|█████████▋| 31/32 [00:00<00:00, 94.58it/s]\n",
      " 96%|█████████▌| 24/25 [00:00<00:00, 79.35it/s]\n",
      " 92%|█████████▏| 12/13 [00:00<00:00, 58.52it/s]\n"
     ]
    },
    {
     "name": "stdout",
     "output_type": "stream",
     "text": [
      "Saved Model\n"
     ]
    },
    {
     "name": "stderr",
     "output_type": "stream",
     "text": [
      " 91%|█████████ | 10/11 [00:00<00:00, 103.34it/s]\n",
      " 98%|█████████▊| 40/41 [00:00<00:00, 93.54it/s]\n",
      " 95%|█████████▍| 18/19 [00:00<00:00, 90.59it/s]\n",
      " 94%|█████████▍| 15/16 [00:00<00:00, 120.15it/s]\n",
      " 97%|█████████▋| 31/32 [00:00<00:00, 114.55it/s]\n",
      " 97%|█████████▋| 31/32 [00:00<00:00, 105.05it/s]\n",
      " 94%|█████████▍| 16/17 [00:00<00:00, 97.04it/s]\n",
      " 97%|█████████▋| 31/32 [00:00<00:00, 91.12it/s] \n",
      " 92%|█████████▏| 12/13 [00:00<00:00, 117.00it/s]\n",
      " 96%|█████████▌| 23/24 [00:00<00:00, 61.80it/s]\n"
     ]
    },
    {
     "name": "stdout",
     "output_type": "stream",
     "text": [
      "Saved Model\n"
     ]
    },
    {
     "name": "stderr",
     "output_type": "stream",
     "text": [
      " 94%|█████████▍| 17/18 [00:00<00:00, 88.10it/s] \n",
      " 97%|█████████▋| 31/32 [00:00<00:00, 103.75it/s]\n",
      " 96%|█████████▋| 27/28 [00:00<00:00, 96.01it/s] \n",
      " 94%|█████████▍| 16/17 [00:00<00:00, 79.91it/s]\n",
      " 97%|█████████▋| 31/32 [00:00<00:00, 87.23it/s]\n",
      " 93%|█████████▎| 13/14 [00:00<00:00, 76.46it/s]\n",
      " 95%|█████████▍| 18/19 [00:00<00:00, 89.88it/s]\n",
      " 92%|█████████▏| 11/12 [00:00<00:00, 88.10it/s]\n",
      " 95%|█████████▌| 21/22 [00:00<00:00, 106.31it/s]\n",
      "100%|██████████| 14/14 [00:00<00:00, 68.33it/s]\n"
     ]
    },
    {
     "name": "stdout",
     "output_type": "stream",
     "text": [
      "Saved Model\n"
     ]
    },
    {
     "name": "stderr",
     "output_type": "stream",
     "text": [
      " 95%|█████████▌| 21/22 [00:00<00:00, 124.88it/s]\n",
      " 91%|█████████ | 10/11 [00:00<00:00, 137.97it/s]\n",
      " 91%|█████████ | 10/11 [00:00<00:00, 98.46it/s]\n",
      " 95%|█████████▌| 21/22 [00:00<00:00, 88.56it/s]\n",
      " 98%|█████████▊| 41/42 [00:00<00:00, 91.78it/s]\n",
      " 96%|█████████▌| 24/25 [00:00<00:00, 57.16it/s]\n",
      " 98%|█████████▊| 40/41 [00:00<00:00, 85.63it/s] \n",
      " 94%|█████████▍| 16/17 [00:00<00:00, 99.15it/s]\n",
      " 94%|█████████▍| 17/18 [00:00<00:00, 77.30it/s]\n",
      " 97%|█████████▋| 34/35 [00:00<00:00, 88.46it/s]\n"
     ]
    },
    {
     "name": "stdout",
     "output_type": "stream",
     "text": [
      "Saved Model\n"
     ]
    },
    {
     "name": "stderr",
     "output_type": "stream",
     "text": [
      " 97%|█████████▋| 31/32 [00:00<00:00, 112.88it/s]\n",
      " 97%|█████████▋| 31/32 [00:00<00:00, 101.14it/s]\n",
      " 97%|█████████▋| 31/32 [00:00<00:00, 91.96it/s] \n",
      " 97%|█████████▋| 31/32 [00:00<00:00, 109.51it/s]\n",
      " 95%|█████████▌| 21/22 [00:00<00:00, 119.11it/s]\n",
      " 97%|█████████▋| 37/38 [00:00<00:00, 87.66it/s]\n",
      " 95%|█████████▌| 20/21 [00:00<00:00, 98.79it/s] \n",
      " 95%|█████████▌| 21/22 [00:00<00:00, 59.63it/s]\n",
      " 97%|█████████▋| 31/32 [00:00<00:00, 79.45it/s]\n",
      "100%|██████████| 14/14 [00:00<00:00, 104.22it/s]\n"
     ]
    },
    {
     "name": "stdout",
     "output_type": "stream",
     "text": [
      "Saved Model\n"
     ]
    },
    {
     "name": "stderr",
     "output_type": "stream",
     "text": [
      " 91%|█████████ | 10/11 [00:00<00:00, 108.82it/s]\n",
      " 91%|█████████ | 10/11 [00:00<00:00, 106.02it/s]\n",
      " 94%|█████████▍| 16/17 [00:00<00:00, 88.18it/s]\n",
      " 91%|█████████ | 10/11 [00:00<00:00, 103.90it/s]\n",
      " 98%|█████████▊| 47/48 [00:00<00:00, 67.83it/s]\n",
      " 95%|█████████▌| 21/22 [00:00<00:00, 104.25it/s]\n",
      " 94%|█████████▍| 15/16 [00:00<00:00, 60.51it/s]\n",
      " 92%|█████████▏| 11/12 [00:00<00:00, 83.73it/s]\n",
      " 91%|█████████ | 10/11 [00:00<00:00, 66.72it/s]\n",
      " 91%|█████████ | 10/11 [00:00<00:00, 80.33it/s]\n"
     ]
    },
    {
     "name": "stdout",
     "output_type": "stream",
     "text": [
      "Saved Model\n"
     ]
    },
    {
     "name": "stderr",
     "output_type": "stream",
     "text": [
      " 95%|█████████▌| 21/22 [00:00<00:00, 97.12it/s] \n",
      " 96%|█████████▌| 24/25 [00:00<00:00, 64.91it/s]\n",
      " 94%|█████████▍| 17/18 [00:00<00:00, 99.38it/s] \n",
      " 97%|█████████▋| 31/32 [00:00<00:00, 115.99it/s]\n",
      " 96%|█████████▌| 24/25 [00:00<00:00, 85.84it/s]\n",
      " 97%|█████████▋| 31/32 [00:00<00:00, 75.31it/s]\n",
      " 94%|█████████▍| 17/18 [00:00<00:00, 83.26it/s]\n",
      " 92%|█████████▏| 12/13 [00:00<00:00, 123.15it/s]\n",
      " 95%|█████████▌| 21/22 [00:00<00:00, 68.72it/s]\n",
      " 97%|█████████▋| 31/32 [00:00<00:00, 62.97it/s]\n"
     ]
    },
    {
     "name": "stdout",
     "output_type": "stream",
     "text": [
      "Saved Model\n"
     ]
    },
    {
     "name": "stderr",
     "output_type": "stream",
     "text": [
      " 91%|█████████ | 10/11 [00:00<00:00, 67.07it/s]\n",
      " 95%|█████████▌| 21/22 [00:00<00:00, 89.01it/s]\n",
      " 94%|█████████▍| 16/17 [00:00<00:00, 90.71it/s]\n",
      " 97%|█████████▋| 31/32 [00:00<00:00, 80.32it/s]\n",
      " 95%|█████████▌| 19/20 [00:00<00:00, 98.55it/s]\n",
      " 98%|█████████▊| 41/42 [00:00<00:00, 85.69it/s]\n",
      " 97%|█████████▋| 31/32 [00:00<00:00, 77.11it/s]\n",
      " 91%|█████████ | 10/11 [00:00<00:00, 140.48it/s]\n",
      " 95%|█████████▌| 21/22 [00:00<00:00, 106.20it/s]\n",
      " 96%|█████████▌| 24/25 [00:00<00:00, 67.13it/s]\n"
     ]
    },
    {
     "name": "stdout",
     "output_type": "stream",
     "text": [
      "Saved Model\n"
     ]
    },
    {
     "name": "stderr",
     "output_type": "stream",
     "text": [
      " 91%|█████████ | 10/11 [00:00<00:00, 64.94it/s]\n",
      " 94%|█████████▍| 16/17 [00:00<00:00, 179.27it/s]\n",
      " 94%|█████████▍| 16/17 [00:00<00:00, 67.34it/s]\n",
      " 97%|█████████▋| 31/32 [00:00<00:00, 100.64it/s]\n",
      " 97%|█████████▋| 31/32 [00:00<00:00, 107.09it/s]\n",
      " 93%|█████████▎| 13/14 [00:00<00:00, 78.97it/s]\n",
      " 96%|█████████▌| 22/23 [00:00<00:00, 40.96it/s]\n",
      " 97%|█████████▋| 31/32 [00:00<00:00, 66.25it/s]\n",
      " 91%|█████████ | 10/11 [00:00<00:00, 124.51it/s]\n",
      " 97%|█████████▋| 31/32 [00:00<00:00, 46.46it/s]\n"
     ]
    },
    {
     "name": "stdout",
     "output_type": "stream",
     "text": [
      "Saved Model\n"
     ]
    },
    {
     "name": "stderr",
     "output_type": "stream",
     "text": [
      " 97%|█████████▋| 31/32 [00:00<00:00, 43.30it/s]\n",
      " 91%|█████████ | 10/11 [00:00<00:00, 92.79it/s]\n",
      " 95%|█████████▌| 20/21 [00:00<00:00, 31.60it/s]\n",
      " 97%|█████████▋| 31/32 [00:00<00:00, 72.06it/s] \n",
      " 96%|█████████▌| 23/24 [00:00<00:00, 58.51it/s]\n",
      " 96%|█████████▌| 23/24 [00:00<00:00, 57.20it/s]\n",
      " 95%|█████████▌| 19/20 [00:00<00:00, 108.54it/s]\n",
      " 91%|█████████ | 10/11 [00:00<00:00, 60.53it/s]\n",
      " 91%|█████████ | 10/11 [00:00<00:00, 122.09it/s]\n",
      " 95%|█████████▍| 18/19 [00:00<00:00, 66.51it/s]\n"
     ]
    },
    {
     "name": "stdout",
     "output_type": "stream",
     "text": [
      "Saved Model\n"
     ]
    },
    {
     "name": "stderr",
     "output_type": "stream",
     "text": [
      " 93%|█████████▎| 13/14 [00:00<00:00, 155.84it/s]\n",
      " 97%|█████████▋| 31/32 [00:00<00:00, 106.12it/s]\n",
      " 91%|█████████ | 10/11 [00:00<00:00, 59.19it/s]\n",
      " 97%|█████████▋| 29/30 [00:00<00:00, 88.77it/s]\n",
      " 95%|█████████▌| 21/22 [00:00<00:00, 96.67it/s]\n",
      " 91%|█████████ | 10/11 [00:00<00:00, 132.19it/s]\n",
      " 96%|█████████▌| 25/26 [00:00<00:00, 96.96it/s]\n",
      " 97%|█████████▋| 31/32 [00:00<00:00, 96.35it/s] \n",
      " 99%|█████████▊| 67/68 [00:01<00:00, 46.56it/s]\n",
      " 91%|█████████ | 10/11 [00:00<00:00, 135.22it/s]\n"
     ]
    },
    {
     "name": "stdout",
     "output_type": "stream",
     "text": [
      "Saved Model\n"
     ]
    },
    {
     "name": "stderr",
     "output_type": "stream",
     "text": [
      " 96%|█████████▌| 22/23 [00:00<00:00, 42.16it/s]\n",
      " 94%|█████████▍| 15/16 [00:00<00:00, 89.04it/s]\n",
      " 91%|█████████ | 10/11 [00:00<00:00, 60.23it/s]\n",
      " 96%|█████████▌| 25/26 [00:00<00:00, 40.74it/s]\n",
      " 96%|█████████▌| 24/25 [00:00<00:00, 97.35it/s]\n",
      " 91%|█████████ | 10/11 [00:00<00:00, 91.28it/s]\n",
      " 96%|█████████▌| 23/24 [00:00<00:00, 149.08it/s]\n",
      " 98%|█████████▊| 45/46 [00:01<00:00, 42.98it/s] \n",
      " 94%|█████████▍| 15/16 [00:00<00:00, 110.02it/s]\n",
      "100%|██████████| 14/14 [00:00<00:00, 83.56it/s]\n"
     ]
    },
    {
     "name": "stdout",
     "output_type": "stream",
     "text": [
      "Saved Model\n"
     ]
    },
    {
     "name": "stderr",
     "output_type": "stream",
     "text": [
      " 97%|█████████▋| 31/32 [00:00<00:00, 63.39it/s]\n",
      " 95%|█████████▍| 18/19 [00:00<00:00, 61.45it/s]\n",
      " 94%|█████████▍| 16/17 [00:00<00:00, 100.68it/s]\n",
      " 92%|█████████▏| 12/13 [00:00<00:00, 47.77it/s]\n",
      " 97%|█████████▋| 34/35 [00:00<00:00, 78.02it/s]\n",
      " 95%|█████████▍| 18/19 [00:00<00:00, 99.85it/s] \n",
      " 92%|█████████▏| 12/13 [00:00<00:00, 76.22it/s]\n",
      " 91%|█████████ | 10/11 [00:00<00:00, 111.86it/s]\n",
      " 91%|█████████ | 10/11 [00:00<00:00, 122.31it/s]\n",
      " 97%|█████████▋| 31/32 [00:00<00:00, 114.74it/s]\n"
     ]
    },
    {
     "name": "stdout",
     "output_type": "stream",
     "text": [
      "Saved Model\n"
     ]
    },
    {
     "name": "stderr",
     "output_type": "stream",
     "text": [
      " 96%|█████████▌| 23/24 [00:00<00:00, 86.21it/s] \n",
      " 97%|█████████▋| 31/32 [00:00<00:00, 59.01it/s]\n",
      " 97%|█████████▋| 31/32 [00:00<00:00, 99.51it/s] \n",
      "100%|██████████| 14/14 [00:00<00:00, 94.72it/s]\n",
      " 91%|█████████ | 10/11 [00:00<00:00, 74.32it/s]\n",
      " 91%|█████████ | 10/11 [00:00<00:00, 40.90it/s]\n",
      " 95%|█████████▌| 21/22 [00:00<00:00, 92.30it/s]\n",
      " 91%|█████████ | 10/11 [00:00<00:00, 119.18it/s]\n",
      " 93%|█████████▎| 13/14 [00:00<00:00, 96.80it/s] \n",
      " 96%|█████████▌| 24/25 [00:00<00:00, 71.05it/s]\n"
     ]
    },
    {
     "name": "stdout",
     "output_type": "stream",
     "text": [
      "Saved Model\n"
     ]
    },
    {
     "name": "stderr",
     "output_type": "stream",
     "text": [
      " 95%|█████████▌| 21/22 [00:00<00:00, 89.59it/s]\n",
      " 96%|█████████▌| 24/25 [00:00<00:00, 101.18it/s]\n",
      " 97%|█████████▋| 31/32 [00:00<00:00, 120.07it/s]\n",
      " 95%|█████████▍| 18/19 [00:00<00:00, 110.60it/s]\n",
      " 97%|█████████▋| 31/32 [00:00<00:00, 81.17it/s]\n",
      " 92%|█████████▏| 11/12 [00:00<00:00, 114.39it/s]\n",
      " 93%|█████████▎| 13/14 [00:00<00:00, 85.93it/s] \n",
      " 91%|█████████ | 10/11 [00:00<00:00, 76.08it/s]\n",
      " 93%|█████████▎| 13/14 [00:00<00:00, 83.18it/s]\n",
      " 92%|█████████▏| 11/12 [00:00<00:00, 152.29it/s]\n"
     ]
    },
    {
     "name": "stdout",
     "output_type": "stream",
     "text": [
      "Saved Model\n"
     ]
    },
    {
     "name": "stderr",
     "output_type": "stream",
     "text": [
      " 97%|█████████▋| 31/32 [00:00<00:00, 90.34it/s]\n",
      " 97%|█████████▋| 31/32 [00:00<00:00, 80.62it/s]\n",
      " 91%|█████████ | 10/11 [00:00<00:00, 62.00it/s]\n",
      " 97%|█████████▋| 31/32 [00:00<00:00, 81.01it/s]\n",
      " 91%|█████████ | 10/11 [00:00<00:00, 59.01it/s]\n",
      " 93%|█████████▎| 13/14 [00:00<00:00, 78.35it/s]\n",
      " 98%|█████████▊| 45/46 [00:00<00:00, 74.61it/s]\n",
      " 97%|█████████▋| 31/32 [00:00<00:00, 79.24it/s]\n",
      " 91%|█████████ | 10/11 [00:00<00:00, 117.13it/s]\n",
      " 98%|█████████▊| 45/46 [00:00<00:00, 115.19it/s]\n"
     ]
    },
    {
     "name": "stdout",
     "output_type": "stream",
     "text": [
      "Saved Model\n"
     ]
    },
    {
     "name": "stderr",
     "output_type": "stream",
     "text": [
      " 91%|█████████ | 10/11 [00:00<00:00, 127.70it/s]\n",
      " 97%|█████████▋| 31/32 [00:00<00:00, 81.55it/s]\n",
      "100%|██████████| 14/14 [00:00<00:00, 84.99it/s]\n",
      " 91%|█████████ | 10/11 [00:00<00:00, 134.33it/s]\n",
      " 97%|█████████▋| 31/32 [00:00<00:00, 105.44it/s]\n",
      " 92%|█████████▏| 11/12 [00:00<00:00, 52.25it/s]\n",
      " 91%|█████████ | 10/11 [00:00<00:00, 104.27it/s]\n",
      " 97%|█████████▋| 31/32 [00:00<00:00, 102.87it/s]\n",
      " 93%|█████████▎| 13/14 [00:00<00:00, 65.84it/s]\n",
      " 97%|█████████▋| 31/32 [00:00<00:00, 102.05it/s]\n"
     ]
    },
    {
     "name": "stdout",
     "output_type": "stream",
     "text": [
      "Saved Model\n"
     ]
    },
    {
     "name": "stderr",
     "output_type": "stream",
     "text": [
      " 97%|█████████▋| 31/32 [00:00<00:00, 67.66it/s]\n",
      " 97%|█████████▋| 31/32 [00:00<00:00, 85.56it/s]\n",
      " 97%|█████████▋| 31/32 [00:00<00:00, 60.72it/s]\n",
      " 96%|█████████▌| 22/23 [00:00<00:00, 99.24it/s]\n",
      " 97%|█████████▋| 31/32 [00:00<00:00, 83.83it/s]\n",
      " 97%|█████████▋| 31/32 [00:00<00:00, 71.49it/s]\n",
      " 94%|█████████▍| 17/18 [00:00<00:00, 105.05it/s]\n",
      " 97%|█████████▋| 31/32 [00:00<00:00, 94.63it/s]\n",
      " 97%|█████████▋| 31/32 [00:00<00:00, 87.04it/s]\n",
      " 95%|█████████▍| 18/19 [00:00<00:00, 89.28it/s]\n"
     ]
    },
    {
     "name": "stdout",
     "output_type": "stream",
     "text": [
      "Saved Model\n"
     ]
    },
    {
     "name": "stderr",
     "output_type": "stream",
     "text": [
      " 91%|█████████ | 10/11 [00:00<00:00, 127.19it/s]\n",
      " 92%|█████████▏| 11/12 [00:00<00:00, 89.96it/s]\n",
      " 94%|█████████▍| 16/17 [00:00<00:00, 64.85it/s]\n",
      " 96%|█████████▌| 25/26 [00:00<00:00, 74.15it/s]\n",
      " 91%|█████████ | 10/11 [00:00<00:00, 65.91it/s]\n",
      " 97%|█████████▋| 31/32 [00:00<00:00, 107.96it/s]\n",
      " 97%|█████████▋| 31/32 [00:00<00:00, 67.49it/s]\n",
      " 91%|█████████ | 10/11 [00:00<00:00, 32.01it/s]\n",
      " 97%|█████████▋| 31/32 [00:00<00:00, 76.66it/s]\n",
      " 97%|█████████▋| 31/32 [00:00<00:00, 121.08it/s]\n"
     ]
    },
    {
     "name": "stdout",
     "output_type": "stream",
     "text": [
      "Saved Model\n"
     ]
    },
    {
     "name": "stderr",
     "output_type": "stream",
     "text": [
      " 97%|█████████▋| 31/32 [00:00<00:00, 88.70it/s] \n",
      " 95%|█████████▌| 21/22 [00:00<00:00, 77.36it/s] \n",
      " 91%|█████████ | 10/11 [00:00<00:00, 66.09it/s]\n",
      " 91%|█████████ | 10/11 [00:00<00:00, 98.31it/s]\n",
      " 97%|█████████▋| 31/32 [00:00<00:00, 89.75it/s] \n",
      " 91%|█████████ | 10/11 [00:00<00:00, 44.99it/s]\n",
      " 97%|█████████▋| 31/32 [00:00<00:00, 86.36it/s] \n",
      " 95%|█████████▍| 18/19 [00:00<00:00, 69.02it/s]\n",
      " 97%|█████████▋| 31/32 [00:00<00:00, 63.30it/s]\n",
      "100%|██████████| 14/14 [00:00<00:00, 60.67it/s]\n"
     ]
    },
    {
     "name": "stdout",
     "output_type": "stream",
     "text": [
      "Saved Model\n"
     ]
    },
    {
     "name": "stderr",
     "output_type": "stream",
     "text": [
      " 95%|█████████▍| 18/19 [00:00<00:00, 89.01it/s]\n",
      " 97%|█████████▋| 31/32 [00:00<00:00, 64.08it/s]\n",
      " 93%|█████████▎| 13/14 [00:00<00:00, 81.17it/s]\n",
      " 91%|█████████ | 10/11 [00:00<00:00, 97.09it/s]\n",
      " 97%|█████████▋| 31/32 [00:00<00:00, 77.94it/s] \n",
      " 95%|█████████▍| 18/19 [00:00<00:00, 45.81it/s]\n",
      " 97%|█████████▋| 31/32 [00:00<00:00, 83.28it/s]\n",
      " 98%|█████████▊| 43/44 [00:00<00:00, 92.46it/s]\n",
      " 91%|█████████ | 10/11 [00:00<00:00, 137.07it/s]\n",
      " 91%|█████████ | 10/11 [00:00<00:00, 77.88it/s]\n"
     ]
    },
    {
     "name": "stdout",
     "output_type": "stream",
     "text": [
      "Saved Model\n"
     ]
    },
    {
     "name": "stderr",
     "output_type": "stream",
     "text": [
      " 95%|█████████▌| 21/22 [00:00<00:00, 67.04it/s]\n",
      " 97%|█████████▋| 31/32 [00:00<00:00, 87.82it/s]\n",
      " 97%|█████████▋| 31/32 [00:00<00:00, 80.41it/s]\n",
      " 91%|█████████ | 10/11 [00:00<00:00, 89.60it/s]\n",
      " 96%|█████████▌| 22/23 [00:00<00:00, 92.76it/s]\n",
      " 97%|█████████▋| 31/32 [00:00<00:00, 69.58it/s]\n",
      " 97%|█████████▋| 31/32 [00:00<00:00, 81.76it/s] \n",
      " 98%|█████████▊| 57/58 [00:00<00:00, 109.60it/s]\n",
      " 97%|█████████▋| 31/32 [00:00<00:00, 44.76it/s]\n",
      " 93%|█████████▎| 13/14 [00:00<00:00, 103.52it/s]\n"
     ]
    },
    {
     "name": "stdout",
     "output_type": "stream",
     "text": [
      "Saved Model\n"
     ]
    },
    {
     "name": "stderr",
     "output_type": "stream",
     "text": [
      " 95%|█████████▍| 18/19 [00:00<00:00, 99.60it/s] \n",
      " 96%|█████████▌| 22/23 [00:00<00:00, 77.37it/s]\n",
      " 98%|█████████▊| 55/56 [00:00<00:00, 85.01it/s] \n",
      " 97%|█████████▋| 31/32 [00:00<00:00, 100.38it/s]\n",
      " 97%|█████████▋| 31/32 [00:00<00:00, 88.48it/s] \n",
      " 97%|█████████▋| 31/32 [00:00<00:00, 100.54it/s]\n",
      " 97%|█████████▋| 31/32 [00:00<00:00, 69.37it/s]\n",
      " 95%|█████████▌| 21/22 [00:00<00:00, 85.22it/s]\n",
      " 97%|█████████▋| 31/32 [00:00<00:00, 98.18it/s] \n",
      " 97%|█████████▋| 31/32 [00:00<00:00, 89.78it/s] \n"
     ]
    },
    {
     "name": "stdout",
     "output_type": "stream",
     "text": [
      "Saved Model\n"
     ]
    },
    {
     "name": "stderr",
     "output_type": "stream",
     "text": [
      " 97%|█████████▋| 31/32 [00:00<00:00, 85.80it/s]\n",
      "100%|██████████| 14/14 [00:00<00:00, 95.35it/s]\n",
      " 97%|█████████▋| 31/32 [00:00<00:00, 98.00it/s]\n",
      " 95%|█████████▍| 18/19 [00:00<00:00, 94.46it/s]\n",
      " 93%|█████████▎| 13/14 [00:00<00:00, 67.20it/s]\n",
      " 95%|█████████▌| 21/22 [00:00<00:00, 128.99it/s]\n",
      " 96%|█████████▌| 23/24 [00:00<00:00, 125.96it/s]\n",
      " 95%|█████████▌| 20/21 [00:00<00:00, 53.69it/s]\n",
      " 97%|█████████▋| 31/32 [00:00<00:00, 110.76it/s]\n",
      " 94%|█████████▍| 15/16 [00:00<00:00, 95.30it/s]\n"
     ]
    },
    {
     "name": "stdout",
     "output_type": "stream",
     "text": [
      "Saved Model\n"
     ]
    },
    {
     "name": "stderr",
     "output_type": "stream",
     "text": [
      " 92%|█████████▏| 11/12 [00:00<00:00, 82.05it/s]\n",
      " 95%|█████████▌| 21/22 [00:00<00:00, 86.12it/s]\n",
      " 97%|█████████▋| 31/32 [00:00<00:00, 85.92it/s]\n",
      " 98%|█████████▊| 39/40 [00:00<00:00, 84.43it/s]\n",
      " 91%|█████████ | 10/11 [00:00<00:00, 54.00it/s]\n",
      " 97%|█████████▋| 31/32 [00:00<00:00, 103.70it/s]\n",
      " 97%|█████████▋| 31/32 [00:00<00:00, 106.25it/s]\n",
      " 96%|█████████▌| 24/25 [00:00<00:00, 124.61it/s]\n",
      " 91%|█████████ | 10/11 [00:00<00:00, 160.45it/s]\n",
      " 97%|█████████▋| 31/32 [00:00<00:00, 87.86it/s]\n"
     ]
    },
    {
     "name": "stdout",
     "output_type": "stream",
     "text": [
      "Saved Model\n"
     ]
    },
    {
     "name": "stderr",
     "output_type": "stream",
     "text": [
      " 91%|█████████ | 10/11 [00:00<00:00, 100.00it/s]\n",
      " 91%|█████████ | 10/11 [00:00<00:00, 99.23it/s]\n",
      " 96%|█████████▌| 24/25 [00:00<00:00, 100.13it/s]\n",
      " 95%|█████████▍| 18/19 [00:00<00:00, 129.96it/s]\n",
      " 97%|█████████▋| 31/32 [00:00<00:00, 73.86it/s]\n",
      " 97%|█████████▋| 31/32 [00:00<00:00, 78.24it/s]\n",
      " 94%|█████████▍| 17/18 [00:00<00:00, 49.44it/s]\n",
      " 95%|█████████▍| 18/19 [00:00<00:00, 95.97it/s]\n",
      " 97%|█████████▋| 31/32 [00:00<00:00, 75.48it/s] \n",
      " 95%|█████████▌| 19/20 [00:00<00:00, 120.29it/s]\n"
     ]
    },
    {
     "name": "stdout",
     "output_type": "stream",
     "text": [
      "Saved Model\n"
     ]
    },
    {
     "name": "stderr",
     "output_type": "stream",
     "text": [
      " 94%|█████████▍| 15/16 [00:00<00:00, 93.26it/s] \n",
      " 96%|█████████▌| 25/26 [00:00<00:00, 37.97it/s]\n",
      " 99%|█████████▉| 93/94 [00:01<00:00, 82.54it/s]\n",
      " 96%|█████████▌| 23/24 [00:00<00:00, 44.49it/s]\n",
      " 94%|█████████▍| 17/18 [00:00<00:00, 67.46it/s]\n",
      " 97%|█████████▋| 31/32 [00:00<00:00, 46.54it/s]\n",
      " 97%|█████████▋| 31/32 [00:00<00:00, 95.96it/s] \n",
      " 97%|█████████▋| 31/32 [00:00<00:00, 94.43it/s]\n",
      " 95%|█████████▌| 20/21 [00:00<00:00, 87.91it/s]\n",
      " 91%|█████████ | 10/11 [00:00<00:00, 59.56it/s]\n"
     ]
    },
    {
     "name": "stdout",
     "output_type": "stream",
     "text": [
      "Saved Model\n"
     ]
    },
    {
     "name": "stderr",
     "output_type": "stream",
     "text": [
      " 96%|█████████▌| 24/25 [00:00<00:00, 83.45it/s]\n",
      " 97%|█████████▋| 31/32 [00:00<00:00, 118.09it/s]\n",
      " 94%|█████████▍| 16/17 [00:00<00:00, 90.99it/s]\n",
      " 96%|█████████▌| 24/25 [00:00<00:00, 67.78it/s]\n",
      " 97%|█████████▋| 31/32 [00:00<00:00, 90.08it/s] \n",
      " 97%|█████████▋| 31/32 [00:00<00:00, 63.31it/s]\n",
      " 96%|█████████▌| 22/23 [00:00<00:00, 91.89it/s]\n",
      " 91%|█████████ | 10/11 [00:00<00:00, 99.97it/s]\n",
      " 97%|█████████▋| 31/32 [00:00<00:00, 92.75it/s] \n",
      " 91%|█████████ | 10/11 [00:00<00:00, 76.04it/s]\n"
     ]
    },
    {
     "name": "stdout",
     "output_type": "stream",
     "text": [
      "Saved Model\n"
     ]
    },
    {
     "name": "stderr",
     "output_type": "stream",
     "text": [
      " 94%|█████████▍| 16/17 [00:00<00:00, 93.40it/s] \n",
      " 97%|█████████▋| 31/32 [00:00<00:00, 94.03it/s] \n",
      " 96%|█████████▌| 24/25 [00:00<00:00, 75.91it/s]\n",
      " 97%|█████████▋| 31/32 [00:00<00:00, 109.34it/s]\n",
      " 95%|█████████▌| 21/22 [00:00<00:00, 77.24it/s]\n",
      " 91%|█████████ | 10/11 [00:00<00:00, 54.29it/s]\n",
      " 94%|█████████▍| 17/18 [00:00<00:00, 51.70it/s]\n",
      " 97%|█████████▋| 31/32 [00:00<00:00, 69.42it/s]\n",
      " 91%|█████████ | 10/11 [00:00<00:00, 108.21it/s]\n",
      " 95%|█████████▍| 18/19 [00:00<00:00, 91.72it/s]\n"
     ]
    },
    {
     "name": "stdout",
     "output_type": "stream",
     "text": [
      "Saved Model\n"
     ]
    },
    {
     "name": "stderr",
     "output_type": "stream",
     "text": [
      " 97%|█████████▋| 31/32 [00:00<00:00, 112.29it/s]\n",
      " 97%|█████████▋| 31/32 [00:00<00:00, 83.11it/s]\n",
      " 96%|█████████▌| 24/25 [00:00<00:00, 96.39it/s]\n",
      " 91%|█████████ | 10/11 [00:00<00:00, 90.61it/s]\n",
      " 95%|█████████▌| 19/20 [00:00<00:00, 67.59it/s]\n",
      " 96%|█████████▌| 23/24 [00:00<00:00, 58.34it/s]\n",
      " 97%|█████████▋| 31/32 [00:00<00:00, 84.62it/s] \n",
      " 91%|█████████ | 10/11 [00:00<00:00, 76.21it/s]\n",
      " 91%|█████████ | 10/11 [00:00<00:00, 91.47it/s]\n",
      " 94%|█████████▍| 16/17 [00:00<00:00, 55.47it/s]\n"
     ]
    },
    {
     "name": "stdout",
     "output_type": "stream",
     "text": [
      "Saved Model\n"
     ]
    },
    {
     "name": "stderr",
     "output_type": "stream",
     "text": [
      " 94%|█████████▍| 16/17 [00:00<00:00, 65.37it/s]\n",
      " 97%|█████████▋| 31/32 [00:00<00:00, 94.26it/s] \n",
      " 91%|█████████ | 10/11 [00:00<00:00, 54.14it/s]\n",
      " 95%|█████████▌| 21/22 [00:00<00:00, 116.35it/s]\n",
      " 91%|█████████ | 10/11 [00:00<00:00, 123.75it/s]\n",
      " 97%|█████████▋| 31/32 [00:00<00:00, 89.68it/s]\n",
      " 97%|█████████▋| 31/32 [00:00<00:00, 73.81it/s]\n",
      " 94%|█████████▍| 16/17 [00:00<00:00, 85.70it/s]\n",
      " 97%|█████████▋| 31/32 [00:00<00:00, 68.83it/s]\n",
      " 94%|█████████▍| 17/18 [00:00<00:00, 78.11it/s]\n"
     ]
    },
    {
     "name": "stdout",
     "output_type": "stream",
     "text": [
      "Saved Model\n"
     ]
    },
    {
     "name": "stderr",
     "output_type": "stream",
     "text": [
      " 91%|█████████ | 10/11 [00:00<00:00, 50.29it/s]\n",
      " 95%|█████████▌| 20/21 [00:00<00:00, 72.82it/s] \n",
      " 91%|█████████ | 10/11 [00:00<00:00, 41.15it/s]\n",
      " 95%|█████████▌| 20/21 [00:00<00:00, 49.38it/s]\n",
      " 91%|█████████ | 10/11 [00:00<00:00, 69.96it/s]\n",
      " 97%|█████████▋| 31/32 [00:00<00:00, 124.00it/s]\n",
      " 97%|█████████▋| 31/32 [00:00<00:00, 77.13it/s]\n",
      " 91%|█████████ | 10/11 [00:00<00:00, 45.09it/s]\n",
      " 94%|█████████▍| 16/17 [00:00<00:00, 111.46it/s]\n",
      "100%|██████████| 14/14 [00:00<00:00, 70.08it/s]\n"
     ]
    },
    {
     "name": "stdout",
     "output_type": "stream",
     "text": [
      "Saved Model\n"
     ]
    },
    {
     "name": "stderr",
     "output_type": "stream",
     "text": [
      " 91%|█████████ | 10/11 [00:00<00:00, 63.35it/s]\n",
      " 94%|█████████▍| 15/16 [00:00<00:00, 79.89it/s]\n",
      " 97%|█████████▋| 31/32 [00:00<00:00, 83.57it/s]\n",
      " 97%|█████████▋| 31/32 [00:00<00:00, 104.91it/s]\n",
      " 97%|█████████▋| 31/32 [00:00<00:00, 75.78it/s] \n",
      " 91%|█████████ | 10/11 [00:00<00:00, 75.44it/s]\n",
      " 97%|█████████▋| 31/32 [00:00<00:00, 72.19it/s]\n",
      " 91%|█████████ | 10/11 [00:00<00:00, 113.94it/s]\n",
      " 94%|█████████▍| 16/17 [00:00<00:00, 59.09it/s]\n",
      " 92%|█████████▏| 12/13 [00:00<00:00, 71.64it/s]\n"
     ]
    },
    {
     "name": "stdout",
     "output_type": "stream",
     "text": [
      "Saved Model\n"
     ]
    },
    {
     "name": "stderr",
     "output_type": "stream",
     "text": [
      " 93%|█████████▎| 13/14 [00:00<00:00, 75.11it/s]\n",
      " 96%|█████████▌| 22/23 [00:00<00:00, 54.48it/s]\n",
      " 96%|█████████▌| 23/24 [00:00<00:00, 57.06it/s]\n",
      " 97%|█████████▋| 31/32 [00:00<00:00, 41.06it/s]\n",
      " 95%|█████████▌| 21/22 [00:00<00:00, 49.29it/s]\n",
      " 91%|█████████ | 10/11 [00:00<00:00, 51.65it/s]\n",
      " 97%|█████████▋| 29/30 [00:01<00:00, 24.60it/s]\n",
      " 91%|█████████ | 10/11 [00:00<00:00, 88.58it/s]\n",
      " 97%|█████████▋| 31/32 [00:00<00:00, 45.14it/s]\n",
      " 94%|█████████▍| 17/18 [00:00<00:00, 91.63it/s]\n"
     ]
    },
    {
     "name": "stdout",
     "output_type": "stream",
     "text": [
      "Saved Model\n"
     ]
    },
    {
     "name": "stderr",
     "output_type": "stream",
     "text": [
      " 91%|█████████ | 10/11 [00:00<00:00, 75.74it/s]\n",
      "100%|██████████| 14/14 [00:00<00:00, 31.63it/s]\n",
      " 91%|█████████ | 10/11 [00:00<00:00, 34.05it/s]\n",
      " 94%|█████████▍| 17/18 [00:00<00:00, 36.54it/s]\n",
      " 91%|█████████ | 10/11 [00:00<00:00, 93.64it/s]\n",
      " 91%|█████████ | 10/11 [00:00<00:00, 139.84it/s]\n",
      " 97%|█████████▋| 31/32 [00:00<00:00, 73.49it/s]\n",
      " 91%|█████████ | 10/11 [00:00<00:00, 78.76it/s]\n",
      " 91%|█████████ | 10/11 [00:00<00:00, 116.44it/s]\n",
      " 91%|█████████ | 10/11 [00:00<00:00, 55.91it/s]\n"
     ]
    },
    {
     "name": "stdout",
     "output_type": "stream",
     "text": [
      "Saved Model\n"
     ]
    },
    {
     "name": "stderr",
     "output_type": "stream",
     "text": [
      " 91%|█████████ | 10/11 [00:00<00:00, 66.37it/s]\n",
      "100%|██████████| 14/14 [00:00<00:00, 54.58it/s]\n",
      " 97%|█████████▋| 31/32 [00:00<00:00, 76.13it/s]\n",
      " 95%|█████████▌| 21/22 [00:00<00:00, 63.33it/s] \n",
      " 97%|█████████▋| 31/32 [00:00<00:00, 102.80it/s]\n",
      " 97%|█████████▋| 31/32 [00:00<00:00, 117.33it/s]\n",
      " 91%|█████████ | 10/11 [00:00<00:00, 128.93it/s]\n",
      " 94%|█████████▍| 15/16 [00:00<00:00, 100.37it/s]\n",
      " 95%|█████████▌| 19/20 [00:00<00:00, 91.13it/s]\n",
      " 95%|█████████▍| 18/19 [00:00<00:00, 101.85it/s]\n"
     ]
    },
    {
     "name": "stdout",
     "output_type": "stream",
     "text": [
      "Saved Model\n"
     ]
    },
    {
     "name": "stderr",
     "output_type": "stream",
     "text": [
      " 97%|█████████▋| 31/32 [00:00<00:00, 117.77it/s]\n",
      "100%|██████████| 14/14 [00:00<00:00, 109.18it/s]\n",
      " 91%|█████████ | 10/11 [00:00<00:00, 141.20it/s]\n",
      " 94%|█████████▍| 17/18 [00:00<00:00, 96.82it/s] \n",
      " 95%|█████████▍| 18/19 [00:00<00:00, 99.26it/s]\n",
      " 91%|█████████ | 10/11 [00:00<00:00, 127.86it/s]\n",
      " 94%|█████████▍| 17/18 [00:00<00:00, 80.78it/s]\n",
      " 97%|█████████▋| 31/32 [00:00<00:00, 99.80it/s] \n",
      " 91%|█████████ | 10/11 [00:00<00:00, 69.43it/s]\n",
      "100%|██████████| 14/14 [00:00<00:00, 98.71it/s]\n"
     ]
    },
    {
     "name": "stdout",
     "output_type": "stream",
     "text": [
      "Saved Model\n"
     ]
    },
    {
     "name": "stderr",
     "output_type": "stream",
     "text": [
      "100%|██████████| 14/14 [00:00<00:00, 57.71it/s]\n",
      " 94%|█████████▍| 17/18 [00:00<00:00, 44.07it/s]\n",
      " 97%|█████████▋| 31/32 [00:00<00:00, 77.72it/s]\n",
      " 97%|█████████▋| 31/32 [00:00<00:00, 59.20it/s]\n",
      " 91%|█████████ | 10/11 [00:00<00:00, 62.74it/s]\n",
      " 97%|█████████▋| 31/32 [00:00<00:00, 86.11it/s] \n",
      " 93%|█████████▎| 13/14 [00:00<00:00, 97.51it/s]\n",
      " 97%|█████████▋| 31/32 [00:00<00:00, 116.45it/s]\n",
      " 97%|█████████▋| 38/39 [00:00<00:00, 103.63it/s]\n",
      " 94%|█████████▍| 16/17 [00:00<00:00, 74.26it/s]\n"
     ]
    },
    {
     "name": "stdout",
     "output_type": "stream",
     "text": [
      "Saved Model\n"
     ]
    },
    {
     "name": "stderr",
     "output_type": "stream",
     "text": [
      " 94%|█████████▍| 15/16 [00:00<00:00, 100.77it/s]\n",
      " 97%|█████████▋| 31/32 [00:00<00:00, 64.25it/s]\n",
      " 91%|█████████ | 10/11 [00:00<00:00, 88.31it/s]\n",
      " 91%|█████████ | 10/11 [00:00<00:00, 55.29it/s]\n",
      " 97%|█████████▋| 31/32 [00:00<00:00, 47.45it/s]\n",
      " 96%|█████████▌| 24/25 [00:00<00:00, 64.68it/s]\n",
      " 98%|█████████▊| 44/45 [00:00<00:00, 60.63it/s]\n",
      " 95%|█████████▌| 19/20 [00:00<00:00, 85.24it/s]\n",
      " 96%|█████████▌| 24/25 [00:00<00:00, 59.80it/s]\n",
      " 91%|█████████ | 10/11 [00:00<00:00, 100.35it/s]\n"
     ]
    },
    {
     "name": "stdout",
     "output_type": "stream",
     "text": [
      "Saved Model\n"
     ]
    },
    {
     "name": "stderr",
     "output_type": "stream",
     "text": [
      " 97%|█████████▋| 31/32 [00:00<00:00, 123.52it/s]\n",
      " 97%|█████████▋| 31/32 [00:00<00:00, 83.62it/s]\n",
      " 95%|█████████▌| 19/20 [00:00<00:00, 82.10it/s] \n",
      "100%|██████████| 14/14 [00:00<00:00, 89.81it/s]\n",
      " 95%|█████████▌| 21/22 [00:00<00:00, 87.54it/s] \n",
      " 91%|█████████ | 10/11 [00:00<00:00, 87.66it/s]\n",
      " 97%|█████████▋| 31/32 [00:00<00:00, 83.52it/s]\n",
      " 97%|█████████▋| 31/32 [00:00<00:00, 86.55it/s]\n",
      " 97%|█████████▋| 31/32 [00:00<00:00, 82.26it/s] \n",
      " 96%|█████████▌| 23/24 [00:00<00:00, 76.50it/s]\n"
     ]
    },
    {
     "name": "stdout",
     "output_type": "stream",
     "text": [
      "Saved Model\n"
     ]
    },
    {
     "name": "stderr",
     "output_type": "stream",
     "text": [
      " 95%|█████████▌| 21/22 [00:00<00:00, 75.01it/s]\n",
      " 91%|█████████ | 10/11 [00:00<00:00, 56.49it/s]\n",
      " 97%|█████████▋| 31/32 [00:00<00:00, 83.88it/s]\n",
      " 97%|█████████▋| 31/32 [00:00<00:00, 84.96it/s]\n",
      " 96%|█████████▌| 23/24 [00:00<00:00, 105.21it/s]\n",
      " 91%|█████████ | 10/11 [00:00<00:00, 68.62it/s]\n",
      " 93%|█████████▎| 13/14 [00:00<00:00, 82.60it/s]\n",
      " 99%|█████████▉| 138/139 [00:02<00:00, 58.76it/s]\n",
      " 94%|█████████▍| 15/16 [00:00<00:00, 78.39it/s]\n",
      " 97%|█████████▋| 31/32 [00:00<00:00, 103.38it/s]\n"
     ]
    },
    {
     "name": "stdout",
     "output_type": "stream",
     "text": [
      "Saved Model\n"
     ]
    },
    {
     "name": "stderr",
     "output_type": "stream",
     "text": [
      " 97%|█████████▋| 31/32 [00:00<00:00, 96.49it/s]\n",
      " 97%|█████████▋| 31/32 [00:00<00:00, 93.61it/s]\n",
      " 96%|█████████▌| 22/23 [00:00<00:00, 89.45it/s] \n",
      " 94%|█████████▍| 17/18 [00:00<00:00, 71.86it/s]\n",
      " 97%|█████████▋| 31/32 [00:00<00:00, 131.04it/s]\n",
      " 97%|█████████▋| 31/32 [00:00<00:00, 87.40it/s]\n",
      " 97%|█████████▋| 31/32 [00:00<00:00, 101.52it/s]\n",
      " 91%|█████████ | 10/11 [00:00<00:00, 81.17it/s]\n",
      " 97%|█████████▋| 31/32 [00:00<00:00, 87.98it/s]\n",
      " 98%|█████████▊| 45/46 [00:00<00:00, 88.24it/s]\n"
     ]
    },
    {
     "name": "stdout",
     "output_type": "stream",
     "text": [
      "Saved Model\n"
     ]
    },
    {
     "name": "stderr",
     "output_type": "stream",
     "text": [
      " 95%|█████████▌| 19/20 [00:00<00:00, 96.82it/s]\n",
      " 94%|█████████▍| 15/16 [00:00<00:00, 70.85it/s]\n",
      " 91%|█████████ | 10/11 [00:00<00:00, 121.54it/s]\n",
      "100%|██████████| 14/14 [00:00<00:00, 132.98it/s]\n",
      " 96%|█████████▌| 22/23 [00:00<00:00, 57.03it/s]\n",
      " 99%|█████████▊| 67/68 [00:00<00:00, 90.29it/s] \n",
      " 97%|█████████▋| 31/32 [00:00<00:00, 80.87it/s] \n",
      "100%|██████████| 56/56 [00:00<00:00, 91.63it/s] \n",
      " 94%|█████████▍| 15/16 [00:00<00:00, 93.84it/s]\n",
      " 94%|█████████▍| 16/17 [00:00<00:00, 88.28it/s] \n"
     ]
    },
    {
     "name": "stdout",
     "output_type": "stream",
     "text": [
      "Saved Model\n"
     ]
    },
    {
     "name": "stderr",
     "output_type": "stream",
     "text": [
      " 94%|█████████▍| 17/18 [00:00<00:00, 109.21it/s]\n",
      " 92%|█████████▏| 11/12 [00:00<00:00, 101.78it/s]\n",
      " 95%|█████████▌| 19/20 [00:00<00:00, 71.82it/s]\n",
      " 94%|█████████▍| 15/16 [00:00<00:00, 83.51it/s] \n",
      " 97%|█████████▋| 31/32 [00:00<00:00, 80.20it/s] \n",
      " 93%|█████████▎| 13/14 [00:00<00:00, 51.02it/s]\n",
      " 94%|█████████▍| 15/16 [00:00<00:00, 79.80it/s]\n",
      " 91%|█████████ | 10/11 [00:00<00:00, 97.38it/s]\n",
      " 96%|█████████▌| 22/23 [00:00<00:00, 111.72it/s]\n",
      " 97%|█████████▋| 31/32 [00:00<00:00, 72.16it/s]\n"
     ]
    },
    {
     "name": "stdout",
     "output_type": "stream",
     "text": [
      "Saved Model\n"
     ]
    },
    {
     "name": "stderr",
     "output_type": "stream",
     "text": [
      " 92%|█████████▏| 11/12 [00:00<00:00, 49.67it/s]\n",
      " 91%|█████████ | 10/11 [00:00<00:00, 106.98it/s]\n",
      " 91%|█████████ | 10/11 [00:00<00:00, 138.11it/s]\n",
      " 91%|█████████ | 10/11 [00:00<00:00, 49.40it/s]\n",
      " 91%|█████████ | 10/11 [00:00<00:00, 127.50it/s]\n",
      " 95%|█████████▌| 21/22 [00:00<00:00, 90.92it/s]\n",
      " 97%|█████████▋| 31/32 [00:00<00:00, 82.07it/s]\n",
      " 95%|█████████▌| 19/20 [00:00<00:00, 100.32it/s]\n",
      "100%|██████████| 63/63 [00:00<00:00, 73.24it/s]\n",
      " 98%|█████████▊| 45/46 [00:00<00:00, 74.33it/s]\n"
     ]
    },
    {
     "name": "stdout",
     "output_type": "stream",
     "text": [
      "Saved Model\n"
     ]
    },
    {
     "name": "stderr",
     "output_type": "stream",
     "text": [
      " 91%|█████████ | 10/11 [00:00<00:00, 62.10it/s]\n",
      " 98%|█████████▊| 53/54 [00:00<00:00, 104.62it/s]\n",
      " 97%|█████████▋| 32/33 [00:00<00:00, 62.12it/s]\n",
      " 97%|█████████▋| 31/32 [00:00<00:00, 97.70it/s]\n",
      " 92%|█████████▏| 11/12 [00:00<00:00, 90.39it/s]\n",
      " 94%|█████████▍| 15/16 [00:00<00:00, 114.57it/s]\n",
      " 91%|█████████ | 10/11 [00:00<00:00, 69.66it/s]\n",
      " 97%|█████████▋| 31/32 [00:00<00:00, 96.35it/s]\n",
      " 94%|█████████▍| 17/18 [00:00<00:00, 92.12it/s]\n",
      " 98%|█████████▊| 57/58 [00:00<00:00, 91.67it/s]\n"
     ]
    },
    {
     "name": "stdout",
     "output_type": "stream",
     "text": [
      "Saved Model\n"
     ]
    },
    {
     "name": "stderr",
     "output_type": "stream",
     "text": [
      " 92%|█████████▏| 11/12 [00:00<00:00, 85.28it/s]\n",
      " 91%|█████████ | 10/11 [00:00<00:00, 131.17it/s]\n",
      " 95%|█████████▌| 20/21 [00:00<00:00, 140.29it/s]\n",
      " 93%|█████████▎| 13/14 [00:00<00:00, 125.23it/s]\n",
      " 91%|█████████ | 10/11 [00:00<00:00, 115.03it/s]\n",
      " 97%|█████████▋| 31/32 [00:00<00:00, 106.96it/s]\n",
      " 93%|█████████▎| 13/14 [00:00<00:00, 152.40it/s]\n",
      " 91%|█████████ | 10/11 [00:00<00:00, 136.31it/s]\n",
      " 92%|█████████▏| 11/12 [00:00<00:00, 113.97it/s]\n",
      " 97%|█████████▋| 31/32 [00:00<00:00, 73.83it/s]\n"
     ]
    },
    {
     "name": "stdout",
     "output_type": "stream",
     "text": [
      "Saved Model\n"
     ]
    },
    {
     "name": "stderr",
     "output_type": "stream",
     "text": [
      " 91%|█████████ | 10/11 [00:00<00:00, 83.61it/s]\n",
      " 95%|█████████▌| 19/20 [00:00<00:00, 110.39it/s]\n",
      " 97%|█████████▋| 31/32 [00:00<00:00, 125.79it/s]\n",
      " 91%|█████████ | 10/11 [00:00<00:00, 119.50it/s]\n",
      " 97%|█████████▋| 31/32 [00:00<00:00, 93.78it/s] \n",
      " 91%|█████████ | 10/11 [00:00<00:00, 133.47it/s]\n",
      " 97%|█████████▋| 31/32 [00:00<00:00, 103.32it/s]\n",
      " 91%|█████████ | 10/11 [00:00<00:00, 124.49it/s]\n",
      " 97%|█████████▋| 31/32 [00:00<00:00, 105.34it/s]\n",
      " 97%|█████████▋| 31/32 [00:00<00:00, 87.31it/s] \n"
     ]
    },
    {
     "name": "stdout",
     "output_type": "stream",
     "text": [
      "Saved Model\n"
     ]
    },
    {
     "name": "stderr",
     "output_type": "stream",
     "text": [
      " 96%|█████████▋| 26/27 [00:00<00:00, 68.19it/s]\n",
      " 97%|█████████▋| 31/32 [00:00<00:00, 119.41it/s]\n",
      " 91%|█████████ | 10/11 [00:00<00:00, 92.23it/s]\n",
      " 91%|█████████ | 10/11 [00:00<00:00, 159.83it/s]\n",
      " 97%|█████████▋| 32/33 [00:00<00:00, 103.52it/s]\n",
      " 91%|█████████ | 10/11 [00:00<00:00, 132.83it/s]\n",
      " 98%|█████████▊| 62/63 [00:00<00:00, 100.16it/s]\n",
      " 97%|█████████▋| 31/32 [00:00<00:00, 121.99it/s]\n",
      " 91%|█████████ | 10/11 [00:00<00:00, 182.63it/s]\n",
      " 97%|█████████▋| 31/32 [00:00<00:00, 100.22it/s]\n"
     ]
    },
    {
     "name": "stdout",
     "output_type": "stream",
     "text": [
      "Saved Model\n"
     ]
    },
    {
     "name": "stderr",
     "output_type": "stream",
     "text": [
      " 93%|█████████▎| 13/14 [00:00<00:00, 134.34it/s]\n",
      " 97%|█████████▋| 31/32 [00:00<00:00, 93.40it/s]\n",
      " 97%|█████████▋| 31/32 [00:00<00:00, 110.17it/s]\n",
      " 97%|█████████▋| 31/32 [00:00<00:00, 106.46it/s]\n",
      " 96%|█████████▌| 23/24 [00:00<00:00, 103.40it/s]\n",
      " 92%|█████████▏| 11/12 [00:00<00:00, 109.85it/s]\n",
      " 91%|█████████ | 10/11 [00:00<00:00, 132.46it/s]\n",
      " 91%|█████████ | 10/11 [00:00<00:00, 122.84it/s]\n",
      " 97%|█████████▋| 31/32 [00:00<00:00, 82.01it/s]\n",
      " 95%|█████████▌| 20/21 [00:00<00:00, 99.67it/s] \n"
     ]
    },
    {
     "name": "stdout",
     "output_type": "stream",
     "text": [
      "Saved Model\n"
     ]
    },
    {
     "name": "stderr",
     "output_type": "stream",
     "text": [
      " 91%|█████████ | 10/11 [00:00<00:00, 154.08it/s]\n",
      "100%|██████████| 14/14 [00:00<00:00, 106.39it/s]\n",
      " 94%|█████████▍| 15/16 [00:00<00:00, 113.16it/s]\n",
      " 97%|█████████▋| 31/32 [00:00<00:00, 102.88it/s]\n",
      " 91%|█████████ | 10/11 [00:00<00:00, 94.89it/s]\n",
      " 93%|█████████▎| 13/14 [00:00<00:00, 148.76it/s]\n",
      " 95%|█████████▍| 18/19 [00:00<00:00, 112.78it/s]\n",
      " 91%|█████████ | 10/11 [00:00<00:00, 127.05it/s]\n",
      " 91%|█████████ | 10/11 [00:00<00:00, 153.07it/s]\n",
      " 97%|█████████▋| 31/32 [00:00<00:00, 88.89it/s] \n"
     ]
    },
    {
     "name": "stdout",
     "output_type": "stream",
     "text": [
      "Saved Model\n"
     ]
    },
    {
     "name": "stderr",
     "output_type": "stream",
     "text": [
      " 91%|█████████ | 10/11 [00:00<00:00, 100.70it/s]\n",
      " 97%|█████████▋| 31/32 [00:00<00:00, 107.32it/s]\n",
      " 91%|█████████ | 10/11 [00:00<00:00, 116.42it/s]\n",
      " 97%|█████████▋| 31/32 [00:00<00:00, 105.26it/s]\n",
      " 91%|█████████ | 10/11 [00:00<00:00, 160.68it/s]\n",
      " 95%|█████████▌| 19/20 [00:00<00:00, 113.35it/s]\n",
      " 97%|█████████▋| 31/32 [00:00<00:00, 112.50it/s]\n",
      " 97%|█████████▋| 31/32 [00:00<00:00, 115.42it/s]\n",
      " 97%|█████████▋| 31/32 [00:00<00:00, 114.61it/s]\n",
      " 97%|█████████▋| 31/32 [00:00<00:00, 119.82it/s]\n"
     ]
    },
    {
     "name": "stdout",
     "output_type": "stream",
     "text": [
      "Saved Model\n"
     ]
    },
    {
     "name": "stderr",
     "output_type": "stream",
     "text": [
      " 91%|█████████ | 10/11 [00:00<00:00, 141.92it/s]\n",
      " 97%|█████████▋| 31/32 [00:00<00:00, 105.87it/s]\n",
      " 94%|█████████▍| 17/18 [00:00<00:00, 138.38it/s]\n",
      " 91%|█████████ | 10/11 [00:00<00:00, 119.53it/s]\n",
      " 97%|█████████▋| 31/32 [00:00<00:00, 110.86it/s]\n",
      " 97%|█████████▋| 31/32 [00:00<00:00, 99.43it/s] \n",
      " 97%|█████████▋| 31/32 [00:00<00:00, 87.58it/s]\n",
      " 95%|█████████▍| 18/19 [00:00<00:00, 91.64it/s]\n",
      " 97%|█████████▋| 31/32 [00:00<00:00, 107.23it/s]\n",
      " 97%|█████████▋| 31/32 [00:00<00:00, 107.73it/s]\n"
     ]
    },
    {
     "name": "stdout",
     "output_type": "stream",
     "text": [
      "Saved Model\n"
     ]
    },
    {
     "name": "stderr",
     "output_type": "stream",
     "text": [
      " 97%|█████████▋| 31/32 [00:00<00:00, 82.40it/s]\n",
      " 97%|█████████▋| 31/32 [00:00<00:00, 106.84it/s]\n",
      " 91%|█████████ | 10/11 [00:00<00:00, 98.40it/s]\n",
      " 97%|█████████▋| 31/32 [00:00<00:00, 113.91it/s]\n",
      " 97%|█████████▋| 31/32 [00:00<00:00, 115.22it/s]\n",
      " 97%|█████████▋| 31/32 [00:00<00:00, 119.89it/s]\n",
      " 97%|█████████▋| 31/32 [00:00<00:00, 104.05it/s]\n",
      " 97%|█████████▋| 31/32 [00:00<00:00, 83.74it/s]\n",
      " 91%|█████████ | 10/11 [00:00<00:00, 117.61it/s]\n",
      " 91%|█████████ | 10/11 [00:00<00:00, 126.94it/s]\n"
     ]
    },
    {
     "name": "stdout",
     "output_type": "stream",
     "text": [
      "Saved Model\n"
     ]
    },
    {
     "name": "stderr",
     "output_type": "stream",
     "text": [
      " 97%|█████████▋| 31/32 [00:00<00:00, 157.99it/s]\n",
      " 95%|█████████▌| 20/21 [00:00<00:00, 103.62it/s]\n",
      " 95%|█████████▍| 18/19 [00:00<00:00, 87.82it/s]\n",
      " 97%|█████████▋| 31/32 [00:00<00:00, 101.36it/s]\n",
      " 97%|█████████▋| 31/32 [00:00<00:00, 81.60it/s]\n",
      " 97%|█████████▋| 31/32 [00:00<00:00, 118.59it/s]\n",
      " 97%|█████████▋| 31/32 [00:00<00:00, 107.30it/s]\n",
      " 95%|█████████▍| 18/19 [00:00<00:00, 105.72it/s]\n",
      " 97%|█████████▋| 31/32 [00:00<00:00, 118.91it/s]\n",
      " 91%|█████████ | 10/11 [00:00<00:00, 129.95it/s]\n"
     ]
    },
    {
     "name": "stdout",
     "output_type": "stream",
     "text": [
      "Saved Model\n"
     ]
    },
    {
     "name": "stderr",
     "output_type": "stream",
     "text": [
      " 94%|█████████▍| 16/17 [00:00<00:00, 90.24it/s]\n",
      " 97%|█████████▋| 31/32 [00:00<00:00, 127.76it/s]\n",
      " 97%|█████████▋| 31/32 [00:00<00:00, 112.68it/s]\n",
      " 95%|█████████▌| 19/20 [00:00<00:00, 94.26it/s] \n",
      " 97%|█████████▋| 31/32 [00:00<00:00, 112.46it/s]\n",
      " 99%|█████████▉| 88/89 [00:00<00:00, 89.25it/s] \n",
      " 91%|█████████ | 10/11 [00:00<00:00, 87.35it/s]\n",
      " 97%|█████████▋| 31/32 [00:00<00:00, 90.46it/s] \n",
      " 97%|█████████▋| 31/32 [00:00<00:00, 118.55it/s]\n",
      " 92%|█████████▏| 12/13 [00:00<00:00, 84.97it/s]\n"
     ]
    },
    {
     "name": "stdout",
     "output_type": "stream",
     "text": [
      "Saved Model\n"
     ]
    },
    {
     "name": "stderr",
     "output_type": "stream",
     "text": [
      " 97%|█████████▋| 32/33 [00:00<00:00, 106.53it/s]\n",
      " 91%|█████████ | 10/11 [00:00<00:00, 90.75it/s]\n",
      " 97%|█████████▋| 31/32 [00:00<00:00, 110.10it/s]\n",
      " 97%|█████████▋| 31/32 [00:00<00:00, 112.33it/s]\n",
      " 97%|█████████▋| 31/32 [00:00<00:00, 119.87it/s]\n",
      " 97%|█████████▋| 31/32 [00:00<00:00, 84.84it/s] \n",
      " 91%|█████████ | 10/11 [00:00<00:00, 135.16it/s]\n",
      " 97%|█████████▋| 31/32 [00:00<00:00, 111.21it/s]\n",
      " 96%|█████████▌| 22/23 [00:00<00:00, 73.14it/s]\n",
      " 91%|█████████ | 10/11 [00:00<00:00, 124.51it/s]\n"
     ]
    },
    {
     "name": "stdout",
     "output_type": "stream",
     "text": [
      "Saved Model\n"
     ]
    },
    {
     "name": "stderr",
     "output_type": "stream",
     "text": [
      " 94%|█████████▍| 16/17 [00:00<00:00, 86.84it/s]\n",
      " 92%|█████████▏| 12/13 [00:00<00:00, 93.34it/s] \n",
      " 91%|█████████ | 10/11 [00:00<00:00, 109.50it/s]\n",
      " 97%|█████████▋| 31/32 [00:00<00:00, 101.77it/s]\n",
      " 92%|█████████▏| 11/12 [00:00<00:00, 117.30it/s]\n",
      " 98%|█████████▊| 47/48 [00:00<00:00, 97.80it/s] \n",
      " 97%|█████████▋| 31/32 [00:00<00:00, 117.06it/s]\n",
      " 97%|█████████▋| 31/32 [00:00<00:00, 114.29it/s]\n",
      " 97%|█████████▋| 31/32 [00:00<00:00, 92.11it/s] \n",
      " 91%|█████████ | 10/11 [00:00<00:00, 142.83it/s]\n"
     ]
    },
    {
     "name": "stdout",
     "output_type": "stream",
     "text": [
      "Saved Model\n"
     ]
    },
    {
     "name": "stderr",
     "output_type": "stream",
     "text": [
      " 91%|█████████ | 10/11 [00:00<00:00, 100.64it/s]\n",
      " 92%|█████████▏| 12/13 [00:00<00:00, 97.78it/s] \n",
      " 97%|█████████▋| 31/32 [00:00<00:00, 92.38it/s]\n",
      " 97%|█████████▋| 31/32 [00:00<00:00, 87.87it/s] \n",
      " 94%|█████████▍| 15/16 [00:00<00:00, 82.16it/s]\n",
      " 98%|█████████▊| 42/43 [00:00<00:00, 106.71it/s]\n",
      "100%|██████████| 14/14 [00:00<00:00, 92.82it/s] \n",
      " 97%|█████████▋| 31/32 [00:00<00:00, 104.71it/s]\n",
      " 97%|█████████▋| 29/30 [00:00<00:00, 117.16it/s]\n",
      " 95%|█████████▌| 20/21 [00:00<00:00, 95.58it/s] \n"
     ]
    },
    {
     "name": "stdout",
     "output_type": "stream",
     "text": [
      "Saved Model\n"
     ]
    },
    {
     "name": "stderr",
     "output_type": "stream",
     "text": [
      " 97%|█████████▋| 31/32 [00:00<00:00, 105.38it/s]\n",
      " 97%|█████████▋| 31/32 [00:00<00:00, 119.45it/s]\n",
      " 97%|█████████▋| 31/32 [00:00<00:00, 116.14it/s]\n",
      " 91%|█████████ | 10/11 [00:00<00:00, 122.26it/s]\n",
      " 91%|█████████ | 10/11 [00:00<00:00, 98.59it/s]\n",
      " 97%|█████████▋| 31/32 [00:00<00:00, 112.56it/s]\n",
      " 91%|█████████ | 10/11 [00:00<00:00, 98.65it/s]\n",
      " 97%|█████████▋| 31/32 [00:00<00:00, 89.73it/s] \n",
      " 97%|█████████▋| 31/32 [00:00<00:00, 85.09it/s] \n",
      "100%|██████████| 107/107 [00:01<00:00, 101.86it/s]\n"
     ]
    },
    {
     "name": "stdout",
     "output_type": "stream",
     "text": [
      "Saved Model\n"
     ]
    },
    {
     "name": "stderr",
     "output_type": "stream",
     "text": [
      " 91%|█████████ | 10/11 [00:00<00:00, 100.15it/s]\n",
      " 97%|█████████▋| 31/32 [00:00<00:00, 103.95it/s]\n",
      " 93%|█████████▎| 13/14 [00:00<00:00, 121.37it/s]\n",
      " 97%|█████████▋| 31/32 [00:00<00:00, 115.77it/s]\n",
      " 91%|█████████ | 10/11 [00:00<00:00, 94.95it/s]\n",
      " 97%|█████████▋| 31/32 [00:00<00:00, 124.05it/s]\n",
      " 91%|█████████ | 10/11 [00:00<00:00, 82.78it/s]\n",
      " 91%|█████████ | 10/11 [00:00<00:00, 112.57it/s]\n",
      " 91%|█████████ | 10/11 [00:00<00:00, 79.66it/s]\n",
      " 97%|█████████▋| 31/32 [00:00<00:00, 111.96it/s]\n"
     ]
    },
    {
     "name": "stdout",
     "output_type": "stream",
     "text": [
      "Saved Model\n"
     ]
    },
    {
     "name": "stderr",
     "output_type": "stream",
     "text": [
      "100%|█████████▉| 300/301 [00:03<00:00, 95.05it/s] \n",
      "100%|█████████▉| 300/301 [00:02<00:00, 105.36it/s]\n",
      "100%|█████████▉| 300/301 [00:02<00:00, 114.80it/s]\n",
      "100%|█████████▉| 300/301 [00:03<00:00, 98.23it/s] \n",
      "100%|█████████▉| 300/301 [00:02<00:00, 107.73it/s]\n",
      "100%|█████████▉| 300/301 [00:02<00:00, 101.35it/s]\n",
      "100%|█████████▉| 300/301 [00:02<00:00, 103.60it/s]\n",
      "100%|█████████▉| 300/301 [00:02<00:00, 124.71it/s]\n",
      "100%|█████████▉| 300/301 [00:02<00:00, 111.39it/s]\n",
      "100%|█████████▉| 300/301 [00:02<00:00, 110.15it/s]\n"
     ]
    },
    {
     "name": "stdout",
     "output_type": "stream",
     "text": [
      "Saved Model\n"
     ]
    },
    {
     "name": "stderr",
     "output_type": "stream",
     "text": [
      "100%|█████████▉| 300/301 [00:02<00:00, 118.88it/s]\n"
     ]
    }
   ],
   "source": [
    "tf.reset_default_graph()\n",
    "\n",
    "if not os.path.exists(model_path):\n",
    "    os.makedirs(model_path)\n",
    "\n",
    "#Create a directory to save episode playback gifs to\n",
    "if not os.path.exists('./frames'):\n",
    "    os.makedirs('./frames')\n",
    "\n",
    "with tf.device(\"/cpu:0\"):\n",
    "    global_episodes = tf.Variable(0,dtype=tf.int32, name='global_episodes',trainable=False)\n",
    "    trainer = tf.train.AdamOptimizer(learning_rate=1e-4)\n",
    "    master_network = AC_Network(s_size, a_size, 'global', None) # Generate global network\n",
    "    num_workers = multiprocessing.cpu_count() # Set workers ot number of available CPU threads\n",
    "    workers = []\n",
    "    # Create worker classes\n",
    "    for i in range(num_workers):\n",
    "        workers.append(Worker(DoomGame(), i, s_size, a_size, trainer, model_path, global_episodes))\n",
    "    saver = tf.train.Saver(max_to_keep =5)\n",
    "    \n",
    "with tf.Session() as sess:\n",
    "    coord = tf.train.Coordinator()\n",
    "    if load_model == True:\n",
    "        print('Loading Model ...')\n",
    "        ckpt = tf.train.get_checkpoint_state(model_path)\n",
    "        saver.restore(sess, ckpt.model_checkpoint_path)\n",
    "    else:\n",
    "        sess.run(tf.global_variables_initializer())\n",
    "        \n",
    "    # This is where the asynchronous magic happens.\n",
    "    # Start the \"work\" process for each worker in a separate threat.\n",
    "    worker_threads = []\n",
    "    for worker in workers:\n",
    "        worker_work = lambda:worker.work(max_episode_length, gamma, sess, coord, saver)\n",
    "        t = threading.Thread(target=(worker_work))\n",
    "        t.start()\n",
    "        sleep(0.5)\n",
    "        worker_threads.append(t)\n",
    "    coord.join(worker_threads)"
   ]
  },
  {
   "cell_type": "code",
   "execution_count": 6,
   "metadata": {
    "collapsed": true
   },
   "outputs": [],
   "source": []
  }
 ],
 "metadata": {
  "kernelspec": {
   "display_name": "Python 3",
   "language": "python",
   "name": "python3"
  },
  "language_info": {
   "codemirror_mode": {
    "name": "ipython",
    "version": 3
   },
   "file_extension": ".py",
   "mimetype": "text/x-python",
   "name": "python",
   "nbconvert_exporter": "python",
   "pygments_lexer": "ipython3",
   "version": "3.5.2"
  }
 },
 "nbformat": 4,
 "nbformat_minor": 1
}
